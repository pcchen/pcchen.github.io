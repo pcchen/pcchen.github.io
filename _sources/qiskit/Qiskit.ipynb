{
 "cells": [
  {
   "cell_type": "markdown",
   "id": "7ca77e69-ca64-4d72-9037-2c15638a042f",
   "metadata": {},
   "source": [
    "# Qiskit\n",
    "* Last updated on 11/15/2023\n",
    "\n",
    "## [Qiskit Ecosystem](https://www.qiskit.org/ecosystem)\n",
    "### Main tier\n",
    "* OPenQASM\n",
    "* qiskit-aer: Qiskit Aer is high-performance quantum computing simulators with realistic noise models. It provides interfaces to run quantum circuits with or without noise using multiple different simulation methods. Qiskit Aer supports leveraging MPI and running on GPUs to improve the performance of simulation.\n",
    "  * https://qiskit.org/ecosystem/aer/\n",
    "  * https://github.com/Qiskit/qiskit-aer\n",
    "* qiskit-ibm-provider\n",
    "* qiskit-ibm-runtime"
   ]
  },
  {
   "cell_type": "code",
   "execution_count": 1,
   "id": "8eb8d787-70e9-48e4-8fb1-a09504df1ecc",
   "metadata": {},
   "outputs": [
    {
     "ename": "SyntaxError",
     "evalue": "invalid syntax (3077809534.py, line 1)",
     "output_type": "error",
     "traceback": [
      "\u001b[0;36m  Cell \u001b[0;32mIn [1], line 1\u001b[0;36m\u001b[0m\n\u001b[0;31m    https://www.qiskit.org/ecosystem\u001b[0m\n\u001b[0m          ^\u001b[0m\n\u001b[0;31mSyntaxError\u001b[0m\u001b[0;31m:\u001b[0m invalid syntax\n"
     ]
    }
   ],
   "source": []
  },
  {
   "cell_type": "markdown",
   "id": "2c878622-292c-4eda-912f-1d0465b71879",
   "metadata": {},
   "source": [
    "## Backends\n",
    "* Statevector: https://docs.quantum-computing.ibm.com/api/qiskit/qiskit.quantum_info.Statevector\n",
    "* OpenQASM: "
   ]
  },
  {
   "cell_type": "code",
   "execution_count": 1,
   "id": "ad05aed3-45f2-423f-869a-cf04302e3c2c",
   "metadata": {},
   "outputs": [],
   "source": [
    "from qiskit.quantum_info import Statevector"
   ]
  },
  {
   "cell_type": "code",
   "execution_count": null,
   "id": "1ad5a5d1-dec3-46a6-a65f-a4f2827f500f",
   "metadata": {},
   "outputs": [],
   "source": [
    "https://docs.quantum-computing.ibm.com/api/qiskit/qiskit.quantum_info.Statevector"
   ]
  },
  {
   "cell_type": "code",
   "execution_count": null,
   "id": "0308b84d-d823-4e43-9ed1-08bbce85b7a0",
   "metadata": {},
   "outputs": [],
   "source": []
  },
  {
   "cell_type": "markdown",
   "id": "fa1ef18c-c78e-4d67-ad7a-67473c300d2a",
   "metadata": {},
   "source": [
    "## Qiskit API References\n",
    "* [qiskit.primitives](https://docs.quantum-computing.ibm.com/api/qiskit/primitives)\n",
    "* [qiskit.circuit](https://docs.quantum-computing.ibm.com/api/qiskit/circuit)\n",
    "* [qiskit.circuit_library](https://docs.quantum-computing.ibm.com/api/qiskit/circuit_library)\n",
    "* [qiskit.quantum_info](https://docs.quantum-computing.ibm.com/api/qiskit/quantum_info)\n",
    "  * [qiskit.quantum_info.Statevector](https://docs.quantum-computing.ibm.com/api/qiskit/qiskit.quantum_info.Statevector)\n",
    "* [qiskit.visualization](https://docs.quantum-computing.ibm.com/api/qiskit/visualization)\n"
   ]
  },
  {
   "cell_type": "code",
   "execution_count": 2,
   "id": "d6f7be44-5550-40d1-8097-bfdc38f04210",
   "metadata": {},
   "outputs": [
    {
     "ename": "SyntaxError",
     "evalue": "invalid syntax (2467683166.py, line 1)",
     "output_type": "error",
     "traceback": [
      "\u001b[0;36m  Cell \u001b[0;32mIn [2], line 1\u001b[0;36m\u001b[0m\n\u001b[0;31m    https://github.com/Qiskit/qiskit-aer\u001b[0m\n\u001b[0m          ^\u001b[0m\n\u001b[0;31mSyntaxError\u001b[0m\u001b[0;31m:\u001b[0m invalid syntax\n"
     ]
    }
   ],
   "source": [
    "https://github.com/Qiskit/qiskit-aer"
   ]
  },
  {
   "cell_type": "code",
   "execution_count": null,
   "id": "d95e4a0b-ae68-4fdd-a278-5b85e60b541b",
   "metadata": {},
   "outputs": [],
   "source": []
  }
 ],
 "metadata": {
  "kernelspec": {
   "display_name": "Python 3 (ipykernel)",
   "language": "python",
   "name": "python3"
  },
  "language_info": {
   "codemirror_mode": {
    "name": "ipython",
    "version": 3
   },
   "file_extension": ".py",
   "mimetype": "text/x-python",
   "name": "python",
   "nbconvert_exporter": "python",
   "pygments_lexer": "ipython3",
   "version": "3.10.6"
  }
 },
 "nbformat": 4,
 "nbformat_minor": 5
}
