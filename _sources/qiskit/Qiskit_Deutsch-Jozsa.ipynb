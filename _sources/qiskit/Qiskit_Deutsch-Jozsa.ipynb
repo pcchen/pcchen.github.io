{
 "cells": [
  {
   "cell_type": "markdown",
   "id": "9ab1fa93-4479-41a1-bc51-5dd543e737f7",
   "metadata": {
    "tags": []
   },
   "source": [
    "# Qiskit: Quantum query algorithms\n",
    "* Last updated on 10/04/2023\n",
    "* Ref: https://learning.quantum-computing.ibm.com/course/fundamentals-of-quantum-algorithms/quantum-query-algorithms"
   ]
  },
  {
   "cell_type": "markdown",
   "id": "b1736cc5-ba81-4b09-9db4-6b41c59399d2",
   "metadata": {},
   "source": [
    "## Deutsch's problem\n",
    "* Input: a function $ f:\\{0,1\\} \\rightarrow \\{0,1\\}$.\n",
    "* Promise: $f$ is either constant or balanced.\n",
    "* Output: 0 if $f$ is constant, if $f$ is balanced.\n",
    "* $f(0)=0, f(1)=0 \\rightarrow f$ is constant.\n",
    "* $f(0)=0, f(1)=1 \\rightarrow f$ is balanced.\n",
    "* $f(0)=1, f(1)=0 \\rightarrow f$ is balanced.\n",
    "* $f(0)=1, f(1)=1 \\rightarrow f$ is constant."
   ]
  },
  {
   "cell_type": "code",
   "execution_count": 2,
   "id": "d22c245e-9891-4d89-a89a-8e3991a435b9",
   "metadata": {},
   "outputs": [],
   "source": [
    "from qiskit import QuantumCircuit"
   ]
  },
  {
   "cell_type": "markdown",
   "id": "d68f2eb2-f80f-4034-9acc-79343afaa471",
   "metadata": {},
   "source": [
    "### Deutsch's algorithm"
   ]
  },
  {
   "cell_type": "code",
   "execution_count": 4,
   "id": "50f32f18-15a0-4b3a-a295-245367a26190",
   "metadata": {},
   "outputs": [
    {
     "data": {
      "text/html": [
       "<pre style=\"word-wrap: normal;white-space: pre;background: #fff0;line-height: 1.1;font-family: &quot;Courier New&quot;,Courier,monospace\">     ┌───┐          \n",
       "q_0: ┤ H ├───────■──\n",
       "     ├───┤┌───┐┌─┴─┐\n",
       "q_1: ┤ X ├┤ H ├┤ X ├\n",
       "     └───┘└───┘└───┘\n",
       "  c: ═══════════════\n",
       "                    </pre>"
      ],
      "text/plain": [
       "     ┌───┐          \n",
       "q_0: ┤ H ├───────■──\n",
       "     ├───┤┌───┐┌─┴─┐\n",
       "q_1: ┤ X ├┤ H ├┤ X ├\n",
       "     └───┘└───┘└───┘\n",
       "  c: ═══════════════\n",
       "                    "
      ]
     },
     "execution_count": 4,
     "metadata": {},
     "output_type": "execute_result"
    }
   ],
   "source": [
    "qc = QuantumCircuit(2,1)\n",
    "qc.x(1)\n",
    "qc.h(0)\n",
    "qc.h(1)\n",
    "qc.cx(0,1)\n",
    "qc.draw()"
   ]
  },
  {
   "cell_type": "code",
   "execution_count": null,
   "id": "54e93c8e-5bc4-46e8-b1ac-b3b1e26c283f",
   "metadata": {},
   "outputs": [],
   "source": []
  },
  {
   "cell_type": "code",
   "execution_count": 35,
   "id": "e77ed5fa-8bba-4bd6-be62-ac1d58a36fed",
   "metadata": {},
   "outputs": [],
   "source": [
    "from qiskit import QuantumCircuit\n",
    "\n",
    "def deutsch_function(case: int):\n",
    "    \"\"\"\n",
    "    Generate a valid Deutsch function as a `QuantumCircuit`.\n",
    "    \"\"\"\n",
    "    if case not in [1,2,3,4]:\n",
    "        raise ValueError(\"`case` must be 1, 2, 3, or 4.\")\n",
    "\n",
    "    f = QuantumCircuit(2)\n",
    "    if case in [2,3]:\n",
    "        f.cx(0, 1)\n",
    "    if case in [3,4]:\n",
    "        f.x(1)\n",
    "    return f"
   ]
  },
  {
   "cell_type": "code",
   "execution_count": 36,
   "id": "868d9f1a-de5a-4ce5-ad1a-104167bf69c0",
   "metadata": {},
   "outputs": [
    {
     "data": {
      "text/html": [
       "<pre style=\"word-wrap: normal;white-space: pre;background: #fff0;line-height: 1.1;font-family: &quot;Courier New&quot;,Courier,monospace\">     \n",
       "q_0: \n",
       "     \n",
       "q_1: \n",
       "     </pre>"
      ],
      "text/plain": [
       "     \n",
       "q_0: \n",
       "     \n",
       "q_1: \n",
       "     "
      ]
     },
     "execution_count": 36,
     "metadata": {},
     "output_type": "execute_result"
    }
   ],
   "source": [
    "f = deutsch_function(1)\n",
    "f.draw()"
   ]
  },
  {
   "cell_type": "code",
   "execution_count": 37,
   "id": "2d01658b-93d0-4f7c-9eb8-05f2990f55bf",
   "metadata": {},
   "outputs": [
    {
     "data": {
      "text/html": [
       "<pre style=\"word-wrap: normal;white-space: pre;background: #fff0;line-height: 1.1;font-family: &quot;Courier New&quot;,Courier,monospace\">     \n",
       "q_0: \n",
       "     \n",
       "q_1: \n",
       "     </pre>"
      ],
      "text/plain": [
       "     \n",
       "q_0: \n",
       "     \n",
       "q_1: \n",
       "     "
      ]
     },
     "execution_count": 37,
     "metadata": {},
     "output_type": "execute_result"
    }
   ],
   "source": [
    "deutsch_function(1).draw()"
   ]
  },
  {
   "cell_type": "code",
   "execution_count": 38,
   "id": "42bf965a-d275-44cd-92c5-a7968b93c9bb",
   "metadata": {},
   "outputs": [
    {
     "data": {
      "text/html": [
       "<pre style=\"word-wrap: normal;white-space: pre;background: #fff0;line-height: 1.1;font-family: &quot;Courier New&quot;,Courier,monospace\">          \n",
       "q_0: ──■──\n",
       "     ┌─┴─┐\n",
       "q_1: ┤ X ├\n",
       "     └───┘</pre>"
      ],
      "text/plain": [
       "          \n",
       "q_0: ──■──\n",
       "     ┌─┴─┐\n",
       "q_1: ┤ X ├\n",
       "     └───┘"
      ]
     },
     "execution_count": 38,
     "metadata": {},
     "output_type": "execute_result"
    }
   ],
   "source": [
    "deutsch_function(2).draw()"
   ]
  },
  {
   "cell_type": "code",
   "execution_count": 39,
   "id": "e6a35449-5c02-499f-ae8a-287bff9d9042",
   "metadata": {},
   "outputs": [
    {
     "data": {
      "text/html": [
       "<pre style=\"word-wrap: normal;white-space: pre;background: #fff0;line-height: 1.1;font-family: &quot;Courier New&quot;,Courier,monospace\">               \n",
       "q_0: ──■───────\n",
       "     ┌─┴─┐┌───┐\n",
       "q_1: ┤ X ├┤ X ├\n",
       "     └───┘└───┘</pre>"
      ],
      "text/plain": [
       "               \n",
       "q_0: ──■───────\n",
       "     ┌─┴─┐┌───┐\n",
       "q_1: ┤ X ├┤ X ├\n",
       "     └───┘└───┘"
      ]
     },
     "execution_count": 39,
     "metadata": {},
     "output_type": "execute_result"
    }
   ],
   "source": [
    "deutsch_function(3).draw()"
   ]
  },
  {
   "cell_type": "code",
   "execution_count": 40,
   "id": "a8b634eb-1209-4e1c-95bd-aa172de342ac",
   "metadata": {},
   "outputs": [
    {
     "data": {
      "text/html": [
       "<pre style=\"word-wrap: normal;white-space: pre;background: #fff0;line-height: 1.1;font-family: &quot;Courier New&quot;,Courier,monospace\">          \n",
       "q_0: ─────\n",
       "     ┌───┐\n",
       "q_1: ┤ X ├\n",
       "     └───┘</pre>"
      ],
      "text/plain": [
       "          \n",
       "q_0: ─────\n",
       "     ┌───┐\n",
       "q_1: ┤ X ├\n",
       "     └───┘"
      ]
     },
     "execution_count": 40,
     "metadata": {},
     "output_type": "execute_result"
    }
   ],
   "source": [
    "deutsch_function(4).draw()"
   ]
  },
  {
   "cell_type": "code",
   "execution_count": null,
   "id": "7677acab-46f0-4e3d-bb32-6454614d5fa9",
   "metadata": {},
   "outputs": [],
   "source": []
  },
  {
   "cell_type": "code",
   "execution_count": 25,
   "id": "ff8bbcab-1b03-4998-a417-e4a92a756461",
   "metadata": {},
   "outputs": [
    {
     "ename": "NameError",
     "evalue": "name 'compile_circuit' is not defined",
     "output_type": "error",
     "traceback": [
      "\u001b[0;31m---------------------------------------------------------------------------\u001b[0m",
      "\u001b[0;31mNameError\u001b[0m                                 Traceback (most recent call last)",
      "Cell \u001b[0;32mIn [25], line 1\u001b[0m\n\u001b[0;32m----> 1\u001b[0m \u001b[43mcompile_circuit\u001b[49m(\n\u001b[1;32m      2\u001b[0m     deutsch_function(\u001b[38;5;241m3\u001b[39m)\n\u001b[1;32m      3\u001b[0m )\u001b[38;5;241m.\u001b[39mdraw()\n",
      "\u001b[0;31mNameError\u001b[0m: name 'compile_circuit' is not defined"
     ]
    }
   ],
   "source": [
    "compile_circuit(\n",
    "    deutsch_function(3)\n",
    ").draw()"
   ]
  },
  {
   "cell_type": "code",
   "execution_count": null,
   "id": "ec2a7756-f07f-4878-9e51-0a622854df30",
   "metadata": {},
   "outputs": [],
   "source": []
  },
  {
   "cell_type": "code",
   "execution_count": null,
   "id": "caeb4a15-66ec-48b2-9c8a-e582fe15a1ad",
   "metadata": {},
   "outputs": [],
   "source": []
  },
  {
   "cell_type": "code",
   "execution_count": 17,
   "id": "f0f5d316-b8bc-42f6-8ab2-74eae50c70ce",
   "metadata": {},
   "outputs": [
    {
     "data": {
      "text/html": [
       "<pre style=\"word-wrap: normal;white-space: pre;background: #fff0;line-height: 1.1;font-family: &quot;Courier New&quot;,Courier,monospace\">               \n",
       "q_0: ──■───────\n",
       "     ┌─┴─┐┌───┐\n",
       "q_1: ┤ X ├┤ X ├\n",
       "     └───┘└───┘</pre>"
      ],
      "text/plain": [
       "               \n",
       "q_0: ──■───────\n",
       "     ┌─┴─┐┌───┐\n",
       "q_1: ┤ X ├┤ X ├\n",
       "     └───┘└───┘"
      ]
     },
     "execution_count": 17,
     "metadata": {},
     "output_type": "execute_result"
    }
   ],
   "source": [
    "deutsch_function(3).draw()"
   ]
  },
  {
   "cell_type": "code",
   "execution_count": 9,
   "id": "0d7921fa-77aa-4f79-8d9b-c9299494b749",
   "metadata": {},
   "outputs": [
    {
     "data": {
      "text/html": [
       "<pre style=\"word-wrap: normal;white-space: pre;background: #fff0;line-height: 1.1;font-family: &quot;Courier New&quot;,Courier,monospace\">     ┌───┐\n",
       "q_0: ┤ H ├\n",
       "     ├───┤\n",
       "q_1: ┤ H ├\n",
       "     └───┘</pre>"
      ],
      "text/plain": [
       "     ┌───┐\n",
       "q_0: ┤ H ├\n",
       "     ├───┤\n",
       "q_1: ┤ H ├\n",
       "     └───┘"
      ]
     },
     "execution_count": 9,
     "metadata": {},
     "output_type": "execute_result"
    }
   ],
   "source": [
    "circuit = QuantumCircuit(2)\n",
    "circuit.h(0)\n",
    "circuit.h(1)\n",
    "# circuit.h(0)\n",
    "# circuit.t(0)\n",
    "circuit.draw()"
   ]
  },
  {
   "cell_type": "code",
   "execution_count": 8,
   "id": "7d1cfb50-2f48-4e28-84ef-7a1fefa6a56a",
   "metadata": {},
   "outputs": [
    {
     "data": {
      "text/html": [
       "<pre style=\"word-wrap: normal;white-space: pre;background: #fff0;line-height: 1.1;font-family: &quot;Courier New&quot;,Courier,monospace\">          \n",
       "q_0: ──■──\n",
       "     ┌─┴─┐\n",
       "q_1: ┤ X ├\n",
       "     └───┘</pre>"
      ],
      "text/plain": [
       "          \n",
       "q_0: ──■──\n",
       "     ┌─┴─┐\n",
       "q_1: ┤ X ├\n",
       "     └───┘"
      ]
     },
     "execution_count": 8,
     "metadata": {},
     "output_type": "execute_result"
    }
   ],
   "source": [
    "from qiskit import QuantumCircuit\n",
    "\n",
    "def deutsch_function(case: int):\n",
    "    \"\"\"\n",
    "    Generate a valid Deutsch function as a `QuantumCircuit`.\n",
    "    \"\"\"\n",
    "    if case not in [1,2,3,4]:\n",
    "        raise ValueError(\"`case` must be 1, 2, 3, or 4.\")\n",
    "\n",
    "    f = QuantumCircuit(2)\n",
    "    if case in [2,3]:\n",
    "        f.cx(0, 1)\n",
    "    if case in [3,4]:\n",
    "        f.x(1)\n",
    "    return f\n",
    "\n",
    "deutsch_function(2).draw()"
   ]
  },
  {
   "cell_type": "markdown",
   "id": "6837a7ab-95bc-41ba-bdef-a8723a64d0f6",
   "metadata": {},
   "source": [
    "## "
   ]
  },
  {
   "cell_type": "markdown",
   "id": "89e35c49-005d-41ad-bb87-3fb7222b4719",
   "metadata": {},
   "source": [
    "## The Deutsch-Jozsa problem"
   ]
  },
  {
   "cell_type": "markdown",
   "id": "ab55c504-b762-4d02-97c6-7e25e76392ca",
   "metadata": {},
   "source": [
    "* Input: a function $ f:\\{0,1\\}^n \\rightarrow \\{0,1\\}$.\n",
    "* Promise: $f$ is either constant or balanced.\n",
    "* Output: 0 if $f$ is constant, if $f$ is balanced.\n",
    "\n",
    "Example of constant $f$ for $n=2$:\n",
    "* $f(00)=1$\n",
    "* $f(01)=1$\n",
    "* $f(10)=1$\n",
    "* $f(11)=1$\n",
    "\n",
    "Example of balanced $f$ for $n=2$:\n",
    "* $f(00)=0$\n",
    "* $f(01)=0$\n",
    "* $f(10)=1$\n",
    "* $f(11)=1$\n"
   ]
  },
  {
   "cell_type": "code",
   "execution_count": null,
   "id": "17828312-ca0a-465d-89f4-2196b21b2e7a",
   "metadata": {},
   "outputs": [],
   "source": []
  }
 ],
 "metadata": {
  "kernelspec": {
   "display_name": "Python 3 (ipykernel)",
   "language": "python",
   "name": "python3"
  },
  "language_info": {
   "codemirror_mode": {
    "name": "ipython",
    "version": 3
   },
   "file_extension": ".py",
   "mimetype": "text/x-python",
   "name": "python",
   "nbconvert_exporter": "python",
   "pygments_lexer": "ipython3",
   "version": "3.10.6"
  }
 },
 "nbformat": 4,
 "nbformat_minor": 5
}
