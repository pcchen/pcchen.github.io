{
 "cells": [
  {
   "cell_type": "markdown",
   "id": "4dd9cbf7-669e-4596-bbe1-bfece7129d87",
   "metadata": {},
   "source": [
    "# Qiskit: FakeProvider\n",
    "* https://docs.quantum-computing.ibm.com/api/qiskit/providers_fake_provider#example-usage\n",
    "\n",
    "If qiskit-aer is installed, jobs will be run using AerSimulator with noise model of the fake backend. Otherwise, jobs will be run using BasicAer simulator without noise."
   ]
  },
  {
   "cell_type": "code",
   "execution_count": 2,
   "id": "1e43f918-fe2b-4c10-980e-bd25b98dd4c5",
   "metadata": {},
   "outputs": [
    {
     "data": {
      "text/html": [
       "<pre style=\"word-wrap: normal;white-space: pre;background: #fff0;line-height: 1.1;font-family: &quot;Courier New&quot;,Courier,monospace\">        ┌───┐          ┌─────────────────┐ ░ ┌─┐      \n",
       "   q_0: ┤ H ├──■────■──┤ Delay(4800[dt]) ├─░─┤M├──────\n",
       "        └───┘┌─┴─┐  │  ├─────────────────┤ ░ └╥┘┌─┐   \n",
       "   q_1: ─────┤ X ├──┼──┤ Delay(4800[dt]) ├─░──╫─┤M├───\n",
       "             └───┘┌─┴─┐├─────────────────┤ ░  ║ └╥┘┌─┐\n",
       "   q_2: ──────────┤ X ├┤ Delay(4800[dt]) ├─░──╫──╫─┤M├\n",
       "                  └───┘└─────────────────┘ ░  ║  ║ └╥┘\n",
       "meas: 3/══════════════════════════════════════╩══╩══╩═\n",
       "                                              0  1  2 </pre>"
      ],
      "text/plain": [
       "        ┌───┐          ┌─────────────────┐ ░ ┌─┐      \n",
       "   q_0: ┤ H ├──■────■──┤ Delay(4800[dt]) ├─░─┤M├──────\n",
       "        └───┘┌─┴─┐  │  ├─────────────────┤ ░ └╥┘┌─┐   \n",
       "   q_1: ─────┤ X ├──┼──┤ Delay(4800[dt]) ├─░──╫─┤M├───\n",
       "             └───┘┌─┴─┐├─────────────────┤ ░  ║ └╥┘┌─┐\n",
       "   q_2: ──────────┤ X ├┤ Delay(4800[dt]) ├─░──╫──╫─┤M├\n",
       "                  └───┘└─────────────────┘ ░  ║  ║ └╥┘\n",
       "meas: 3/══════════════════════════════════════╩══╩══╩═\n",
       "                                              0  1  2 "
      ]
     },
     "execution_count": 2,
     "metadata": {},
     "output_type": "execute_result"
    }
   ],
   "source": [
    "from qiskit import QuantumCircuit\n",
    "from qiskit.providers.fake_provider import *\n",
    "from qiskit.tools.visualization import plot_histogram\n",
    "from qiskit_aer import AerSimulator\n",
    "\n",
    "backend = AerSimulator()\n",
    "# Get a fake backend from the fake provider\n",
    "backend = FakeManilaV2()\n",
    "# backend= FakeAuckland()\n",
    "\n",
    "# backend = Aer.get_backend('statevector_simulator')\n",
    " \n",
    "# Create a simple circuit\n",
    "circuit = QuantumCircuit(3)\n",
    "circuit.h(0)\n",
    "circuit.cx(0,1)\n",
    "circuit.cx(0,2)\n",
    "circuit.delay(300 * 16, 0)\n",
    "circuit.delay(300 * 16, 1)\n",
    "circuit.delay(300 * 16, 2)\n",
    "circuit.measure_all()\n",
    "circuit.draw()"
   ]
  },
  {
   "cell_type": "code",
   "execution_count": 3,
   "id": "2bd31adf-b06c-4caa-91d3-ecf768b58e56",
   "metadata": {},
   "outputs": [
    {
     "data": {
      "image/png": "[encoded data removed]",
      "text/plain": [
       "<Figure size 700x500 with 1 Axes>"
      ]
     },
     "execution_count": 3,
     "metadata": {},
     "output_type": "execute_result"
    }
   ],
   "source": [
    "job = backend.run(circuit)\n",
    "counts = job.result().get_counts()\n",
    "plot_histogram(counts)"
   ]
  },
  {
   "cell_type": "code",
   "execution_count": 4,
   "id": "b907a025-7182-45d9-8d94-d33d40e67bc6",
   "metadata": {},
   "outputs": [
    {
     "ename": "ModuleNotFoundError",
     "evalue": "No module named 'qiskit_ibm_runtime'",
     "output_type": "error",
     "traceback": [
      "\u001b[0;31m---------------------------------------------------------------------------\u001b[0m",
      "\u001b[0;31mModuleNotFoundError\u001b[0m                       Traceback (most recent call last)",
      "Cell \u001b[0;32mIn [4], line 1\u001b[0m\n\u001b[0;32m----> 1\u001b[0m \u001b[38;5;28;01mfrom\u001b[39;00m \u001b[38;5;21;01mqiskit_ibm_runtime\u001b[39;00m \u001b[38;5;28;01mimport\u001b[39;00m Options\n",
      "\u001b[0;31mModuleNotFoundError\u001b[0m: No module named 'qiskit_ibm_runtime'"
     ]
    }
   ],
   "source": [
    "from qiskit_ibm_runtime import Options"
   ]
  },
  {
   "cell_type": "code",
   "execution_count": null,
   "id": "a0a16693-600f-4d79-b472-bd672c5a6df8",
   "metadata": {},
   "outputs": [],
   "source": []
  }
 ],
 "metadata": {
  "kernelspec": {
   "display_name": "Python 3 (ipykernel)",
   "language": "python",
   "name": "python3"
  },
  "language_info": {
   "codemirror_mode": {
    "name": "ipython",
    "version": 3
   },
   "file_extension": ".py",
   "mimetype": "text/x-python",
   "name": "python",
   "nbconvert_exporter": "python",
   "pygments_lexer": "ipython3",
   "version": "3.10.6"
  }
 },
 "nbformat": 4,
 "nbformat_minor": 5
}
