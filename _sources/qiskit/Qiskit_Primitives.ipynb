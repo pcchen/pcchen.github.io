{
 "cells": [
  {
   "cell_type": "markdown",
   "id": "95d242af-7bc2-48d0-9132-8e7eea09290b",
   "metadata": {},
   "source": [
    "# Qiskit: Primitives\n",
    "\n",
    "https://docs.quantum-computing.ibm.com/api/qiskit/primitives"
   ]
  },
  {
   "cell_type": "markdown",
   "id": "1dd1c993-1850-4beb-8d9c-84bdb2210f2e",
   "metadata": {},
   "source": [
    "## Overview of Estimator\n"
   ]
  },
  {
   "cell_type": "code",
   "execution_count": 5,
   "id": "37bd1142-3315-4041-ab69-ad4ccd63e861",
   "metadata": {},
   "outputs": [
    {
     "name": "stdout",
     "output_type": "stream",
     "text": [
      "The primitive-job finished with result EstimatorResult(values=array([1.55555728]), metadata=[{}])\n",
      "The primitive-job finished with result EstimatorResult(values=array([ 1.55555728,  0.17849238, -1.08766318]), metadata=[{}, {}, {}])\n"
     ]
    }
   ],
   "source": [
    "from qiskit.primitives import Estimator\n",
    "from qiskit.circuit.library import RealAmplitudes\n",
    "from qiskit.quantum_info import SparsePauliOp\n",
    " \n",
    "psi1 = RealAmplitudes(num_qubits=2, reps=2)\n",
    "psi2 = RealAmplitudes(num_qubits=2, reps=3)\n",
    " \n",
    "H1 = SparsePauliOp.from_list([(\"II\", 1), (\"IZ\", 2), (\"XI\", 3)])\n",
    "H2 = SparsePauliOp.from_list([(\"IZ\", 1)])\n",
    "H3 = SparsePauliOp.from_list([(\"ZI\", 1), (\"ZZ\", 1)])\n",
    " \n",
    "theta1 = [0, 1, 1, 2, 3, 5]\n",
    "theta2 = [0, 1, 1, 2, 3, 5, 8, 13]\n",
    "theta3 = [1, 2, 3, 4, 5, 6]\n",
    " \n",
    "estimator = Estimator()\n",
    " \n",
    "# calculate [ <psi1(theta1)|H1|psi1(theta1)> ]\n",
    "job = estimator.run([psi1], [H1], [theta1])\n",
    "job_result = job.result() # It will block until the job finishes.\n",
    "print(f\"The primitive-job finished with result {job_result}\")\n",
    " \n",
    "# calculate [ <psi1(theta1)|H1|psi1(theta1)>,\n",
    "#             <psi2(theta2)|H2|psi2(theta2)>,\n",
    "#             <psi1(theta3)|H3|psi1(theta3)> ]\n",
    "job2 = estimator.run([psi1, psi2, psi1], [H1, H2, H3], [theta1, theta2, theta3])\n",
    "job_result = job2.result()\n",
    "print(f\"The primitive-job finished with result {job_result}\")"
   ]
  },
  {
   "cell_type": "markdown",
   "id": "aa121c3b-a8ce-4c31-8e11-230cd08dca66",
   "metadata": {},
   "source": [
    "## Overview of Sampler"
   ]
  },
  {
   "cell_type": "code",
   "execution_count": 6,
   "id": "772739b8-cc95-4305-ae87-68a6a831db14",
   "metadata": {},
   "outputs": [
    {
     "name": "stdout",
     "output_type": "stream",
     "text": [
      "[{'00': 0.4999999999999999, '11': 0.4999999999999999}]\n",
      "[{'00': 0.1309248462975777, '01': 0.3608720796028448, '10': 0.0932486523205006, '11': 0.4149544217790772}, {'00': 0.1880263994380416, '01': 0.6881971261189544, '10': 0.0932623272058244, '11': 0.0305141472371799}]\n"
     ]
    }
   ],
   "source": [
    "from qiskit.primitives import Sampler\n",
    "from qiskit import QuantumCircuit\n",
    "from qiskit.circuit.library import RealAmplitudes\n",
    " \n",
    "# a Bell circuit\n",
    "bell = QuantumCircuit(2)\n",
    "bell.h(0)\n",
    "bell.cx(0, 1)\n",
    "bell.measure_all()\n",
    " \n",
    "# two parameterized circuits\n",
    "pqc = RealAmplitudes(num_qubits=2, reps=2)\n",
    "pqc.measure_all()\n",
    "pqc2 = RealAmplitudes(num_qubits=2, reps=3)\n",
    "pqc2.measure_all()\n",
    " \n",
    "theta1 = [0, 1, 1, 2, 3, 5]\n",
    "theta2 = [0, 1, 2, 3, 4, 5, 6, 7]\n",
    " \n",
    "# initialization of the sampler\n",
    "sampler = Sampler()\n",
    " \n",
    "# Sampler runs a job on the Bell circuit\n",
    "job = sampler.run(circuits=[bell], parameter_values=[[]], parameters=[[]])\n",
    "job_result = job.result()\n",
    "print([q.binary_probabilities() for q in job_result.quasi_dists])\n",
    " \n",
    "# Sampler runs a job on the parameterized circuits\n",
    "job2 = sampler.run(\n",
    "    circuits=[pqc, pqc2],\n",
    "    parameter_values=[theta1, theta2],\n",
    "    parameters=[pqc.parameters, pqc2.parameters])\n",
    "job_result = job2.result()\n",
    "print([q.binary_probabilities() for q in job_result.quasi_dists])"
   ]
  },
  {
   "cell_type": "code",
   "execution_count": null,
   "id": "47ac49e6-ff49-4708-8ae6-cb2fe73c08dd",
   "metadata": {},
   "outputs": [],
   "source": []
  }
 ],
 "metadata": {
  "kernelspec": {
   "display_name": "Python 3 (ipykernel)",
   "language": "python",
   "name": "python3"
  },
  "language_info": {
   "codemirror_mode": {
    "name": "ipython",
    "version": 3
   },
   "file_extension": ".py",
   "mimetype": "text/x-python",
   "name": "python",
   "nbconvert_exporter": "python",
   "pygments_lexer": "ipython3",
   "version": "3.10.6"
  }
 },
 "nbformat": 4,
 "nbformat_minor": 5
}
