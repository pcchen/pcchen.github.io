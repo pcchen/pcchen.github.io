{
 "cells": [
  {
   "cell_type": "markdown",
   "id": "913b5997-1944-4c2f-a10e-c9cdc6c7db62",
   "metadata": {},
   "source": [
    "# Qiskit: Quantum Gates\n",
    "* Last updated on 10/04/2023"
   ]
  },
  {
   "cell_type": "code",
   "execution_count": 1,
   "id": "a3625d0f-ea5b-4672-9d9f-dd516a9f76a3",
   "metadata": {},
   "outputs": [],
   "source": [
    "import numpy as np"
   ]
  },
  {
   "cell_type": "code",
   "execution_count": 2,
   "id": "f805a8e9-4767-4d53-bb0d-d4650e08839b",
   "metadata": {},
   "outputs": [],
   "source": [
    "from qiskit.circuit.library import *"
   ]
  },
  {
   "cell_type": "markdown",
   "id": "4165f37e-e3f3-4264-8ec9-2311b863ef22",
   "metadata": {},
   "source": [
    "## Identity gate"
   ]
  },
  {
   "cell_type": "markdown",
   "id": "8e108664-6e6f-4f70-9289-ff3b0b4e8bc5",
   "metadata": {},
   "source": [
    "## Pauli gates (X, Y, Z)"
   ]
  },
  {
   "cell_type": "markdown",
   "id": "a316ce95-f7d1-43f1-a38a-797147890952",
   "metadata": {},
   "source": [
    "## Controlled gates"
   ]
  },
  {
   "cell_type": "markdown",
   "id": "9f3561c0-2cb5-4fb0-9743-8691353314de",
   "metadata": {},
   "source": [
    "## Phase shift gates\n",
    "* https://docs.quantum-computing.ibm.com/api/qiskit/qiskit.circuit.library.PhaseGate\n",
    "* qiskit.circuit.library.PhaseGate()\n",
    "* QuantumCircuit.p()"
   ]
  },
  {
   "cell_type": "markdown",
   "id": "d8cd1e0e-2d59-4bb9-9eb7-f2b9894c963f",
   "metadata": {},
   "source": [
    "### ZGate = PhaseGate($\\pi$)"
   ]
  },
  {
   "cell_type": "code",
   "execution_count": 3,
   "id": "1787e836-32dc-41a1-a81e-a71e10e3928b",
   "metadata": {},
   "outputs": [
    {
     "data": {
      "text/plain": [
       "array([[ 1.+0.0000000e+00j,  0.+0.0000000e+00j],\n",
       "       [ 0.+0.0000000e+00j, -1.+1.2246468e-16j]])"
      ]
     },
     "execution_count": 3,
     "metadata": {},
     "output_type": "execute_result"
    }
   ],
   "source": [
    "PhaseGate(np.pi).to_matrix()"
   ]
  },
  {
   "cell_type": "code",
   "execution_count": 4,
   "id": "27d8c668-7f37-449d-a4dd-0af9dabca057",
   "metadata": {},
   "outputs": [
    {
     "data": {
      "text/plain": [
       "array([[ 1.+0.j,  0.+0.j],\n",
       "       [ 0.+0.j, -1.+0.j]])"
      ]
     },
     "execution_count": 4,
     "metadata": {},
     "output_type": "execute_result"
    }
   ],
   "source": [
    "ZGate().to_matrix()"
   ]
  },
  {
   "cell_type": "markdown",
   "id": "a15cee8a-06b5-4b91-8cc5-1c6478fcc199",
   "metadata": {},
   "source": [
    "### SGate = PhaseGate($\\pi/2$)"
   ]
  },
  {
   "cell_type": "code",
   "execution_count": 5,
   "id": "f8411e7c-459c-4aa8-af2c-73f4710f97cb",
   "metadata": {},
   "outputs": [
    {
     "data": {
      "text/plain": [
       "array([[1.000000e+00+0.j, 0.000000e+00+0.j],\n",
       "       [0.000000e+00+0.j, 6.123234e-17+1.j]])"
      ]
     },
     "execution_count": 5,
     "metadata": {},
     "output_type": "execute_result"
    }
   ],
   "source": [
    "PhaseGate(np.pi/2).to_matrix()"
   ]
  },
  {
   "cell_type": "code",
   "execution_count": 6,
   "id": "e290d8b2-4620-4567-add6-ae5245c9eda3",
   "metadata": {},
   "outputs": [
    {
     "data": {
      "text/plain": [
       "array([[1.+0.j, 0.+0.j],\n",
       "       [0.+0.j, 0.+1.j]])"
      ]
     },
     "execution_count": 6,
     "metadata": {},
     "output_type": "execute_result"
    }
   ],
   "source": [
    "SGate().to_matrix()"
   ]
  },
  {
   "cell_type": "markdown",
   "id": "34e046b9-2b7d-4a2e-b9c7-8e155e4d7724",
   "metadata": {},
   "source": [
    "### TGate = PhaseGate($\\pi/4$)"
   ]
  },
  {
   "cell_type": "code",
   "execution_count": 7,
   "id": "559f100c-bd31-40b8-a851-b9fcdfaf5995",
   "metadata": {},
   "outputs": [
    {
     "data": {
      "text/plain": [
       "array([[1.        +0.j        , 0.        +0.j        ],\n",
       "       [0.        +0.j        , 0.70710678+0.70710678j]])"
      ]
     },
     "execution_count": 7,
     "metadata": {},
     "output_type": "execute_result"
    }
   ],
   "source": [
    "PhaseGate(np.pi/4).to_matrix()"
   ]
  },
  {
   "cell_type": "code",
   "execution_count": 8,
   "id": "58c0c4d3-4c66-4579-987d-57c8b71cf06b",
   "metadata": {},
   "outputs": [
    {
     "data": {
      "text/plain": [
       "array([[1.        +0.j        , 0.        +0.j        ],\n",
       "       [0.        +0.j        , 0.70710678+0.70710678j]])"
      ]
     },
     "execution_count": 8,
     "metadata": {},
     "output_type": "execute_result"
    }
   ],
   "source": [
    "TGate().to_matrix()"
   ]
  },
  {
   "cell_type": "markdown",
   "id": "a99d0a52-bf7e-4aa1-804f-cd2bf0c339a8",
   "metadata": {},
   "source": [
    "## Hadamard gate (H)\n",
    "* https://docs.quantum-computing.ibm.com/api/qiskit/qiskit.circuit.library.HGate"
   ]
  },
  {
   "cell_type": "code",
   "execution_count": 9,
   "id": "43401432-f5bb-45c7-8aba-9e8a4158ecf6",
   "metadata": {},
   "outputs": [
    {
     "data": {
      "text/plain": [
       "array([[ 0.70710678+0.j,  0.70710678+0.j],\n",
       "       [ 0.70710678+0.j, -0.70710678+0.j]])"
      ]
     },
     "execution_count": 9,
     "metadata": {},
     "output_type": "execute_result"
    }
   ],
   "source": [
    "HGate().to_matrix()"
   ]
  },
  {
   "cell_type": "code",
   "execution_count": null,
   "id": "08eb2754-6d97-4620-b8e5-88cce791be89",
   "metadata": {},
   "outputs": [],
   "source": []
  }
 ],
 "metadata": {
  "kernelspec": {
   "display_name": "Python 3 (ipykernel)",
   "language": "python",
   "name": "python3"
  },
  "language_info": {
   "codemirror_mode": {
    "name": "ipython",
    "version": 3
   },
   "file_extension": ".py",
   "mimetype": "text/x-python",
   "name": "python",
   "nbconvert_exporter": "python",
   "pygments_lexer": "ipython3",
   "version": "3.10.6"
  }
 },
 "nbformat": 4,
 "nbformat_minor": 5
}
