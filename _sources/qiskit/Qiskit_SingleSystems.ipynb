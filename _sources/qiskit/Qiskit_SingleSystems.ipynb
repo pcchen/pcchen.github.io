{
 "cells": [
  {
   "cell_type": "markdown",
   "id": "45294590-8ed2-4b54-9609-d23c4ccc7697",
   "metadata": {},
   "source": [
    "# Qiskit: Single Systems\n",
    "* Last updated on 10/04/2023\n",
    "* Ref: https://learning.quantum-computing.ibm.com/course/basics-of-quantum-information/single-systems"
   ]
  },
  {
   "cell_type": "code",
   "execution_count": 1,
   "id": "9a495a59-0e28-496a-9270-d6b974d922c7",
   "metadata": {},
   "outputs": [],
   "source": [
    "import numpy as np"
   ]
  },
  {
   "cell_type": "markdown",
   "id": "26ca0fe9-a39c-4114-8d1e-bb4d77b1bcc1",
   "metadata": {},
   "source": [
    "## Numpy array"
   ]
  },
  {
   "cell_type": "code",
   "execution_count": 2,
   "id": "0e68bfeb-47ac-41dc-a6e6-59d6323e4f0e",
   "metadata": {},
   "outputs": [
    {
     "data": {
      "text/plain": [
       "array([1, 0])"
      ]
     },
     "metadata": {},
     "output_type": "display_data"
    },
    {
     "data": {
      "text/plain": [
       "array([0, 1])"
      ]
     },
     "metadata": {},
     "output_type": "display_data"
    },
    {
     "name": "stdout",
     "output_type": "stream",
     "text": [
      "[1 0]\n",
      "[0 1]\n"
     ]
    }
   ],
   "source": [
    "ket0 = np.array([1, 0])\n",
    "ket1 = np.array([0, 1])\n",
    "display(ket0)\n",
    "display(ket1)\n",
    "print(ket0)\n",
    "print(ket1)"
   ]
  },
  {
   "cell_type": "code",
   "execution_count": 3,
   "id": "5e0e555f-04b6-4187-8e61-d3a9a1d69de9",
   "metadata": {},
   "outputs": [
    {
     "data": {
      "text/plain": [
       "array([0.5, 0.5])"
      ]
     },
     "execution_count": 3,
     "metadata": {},
     "output_type": "execute_result"
    }
   ],
   "source": [
    "ket0/2 + ket1/2"
   ]
  },
  {
   "cell_type": "code",
   "execution_count": 4,
   "id": "01c77efb-a865-493d-a7c9-8a6b0ca0aada",
   "metadata": {},
   "outputs": [],
   "source": [
    "M1 = np.array([[1, 1],\n",
    "               [0, 0]])\n",
    "M2 = np.array([[1, 1],\n",
    "               [1, 0]])"
   ]
  },
  {
   "cell_type": "code",
   "execution_count": 5,
   "id": "e1ad92f5-d85e-4333-a918-9e3459c23293",
   "metadata": {},
   "outputs": [
    {
     "data": {
      "text/plain": [
       "array([[1. , 1. ],\n",
       "       [0.5, 0. ]])"
      ]
     },
     "execution_count": 5,
     "metadata": {},
     "output_type": "execute_result"
    }
   ],
   "source": [
    "M1/2 + M2/2"
   ]
  },
  {
   "cell_type": "code",
   "execution_count": 6,
   "id": "1652cfb8-cc4d-48a4-b610-d3a2aa759097",
   "metadata": {},
   "outputs": [
    {
     "data": {
      "text/plain": [
       "1"
      ]
     },
     "execution_count": 6,
     "metadata": {},
     "output_type": "execute_result"
    }
   ],
   "source": [
    "M1[0,0]"
   ]
  },
  {
   "cell_type": "code",
   "execution_count": 7,
   "id": "c83ef68d-ca07-4968-b85a-a91c878c6bf2",
   "metadata": {},
   "outputs": [
    {
     "data": {
      "text/plain": [
       "array([[2, 1],\n",
       "       [0, 0]])"
      ]
     },
     "execution_count": 7,
     "metadata": {},
     "output_type": "execute_result"
    }
   ],
   "source": [
    "M1 @ M2"
   ]
  },
  {
   "cell_type": "code",
   "execution_count": 8,
   "id": "81d5160f-f22b-4962-982a-7dc60a7ef2df",
   "metadata": {},
   "outputs": [
    {
     "data": {
      "text/plain": [
       "array([1, 1])"
      ]
     },
     "execution_count": 8,
     "metadata": {},
     "output_type": "execute_result"
    }
   ],
   "source": [
    "M2 @ ket0"
   ]
  },
  {
   "cell_type": "markdown",
   "id": "20985712-10dc-4886-9289-7c74e0485028",
   "metadata": {},
   "source": [
    "## Qiskit statevector\n",
    "https://docs.quantum-computing.ibm.com/api/qiskit/qiskit.quantum_info.Statevector"
   ]
  },
  {
   "cell_type": "code",
   "execution_count": 9,
   "id": "f4bf2808-cfb1-40c3-b261-f0349eec0ab0",
   "metadata": {},
   "outputs": [],
   "source": [
    "from qiskit.quantum_info import Statevector"
   ]
  },
  {
   "cell_type": "markdown",
   "id": "67c3c4de-63dd-4df7-8447-c3170d4e0372",
   "metadata": {},
   "source": [
    "### Create a statevector"
   ]
  },
  {
   "cell_type": "code",
   "execution_count": 10,
   "id": "65afca70-4985-42bc-86c6-2585e1499ae1",
   "metadata": {},
   "outputs": [],
   "source": [
    "u = Statevector([1/np.sqrt(2), 1/np.sqrt(2)])\n",
    "v = Statevector([(1 + 2.0j)/3, -2/3])\n",
    "w = Statevector([1/3, 2/3])"
   ]
  },
  {
   "cell_type": "code",
   "execution_count": 11,
   "id": "185a54d6-4dca-4b75-af97-61dc51ff8b1e",
   "metadata": {},
   "outputs": [
    {
     "name": "stdout",
     "output_type": "stream",
     "text": [
      "Statevector([0.70710678+0.j, 0.70710678+0.j],\n",
      "            dims=(2,))\n"
     ]
    }
   ],
   "source": [
    "print(u)"
   ]
  },
  {
   "cell_type": "markdown",
   "id": "7c106269-5eed-4ca8-98b1-40205ab59f53",
   "metadata": {},
   "source": [
    "### Diaply a statevector"
   ]
  },
  {
   "cell_type": "code",
   "execution_count": 12,
   "id": "e243125f-cbfd-40d3-9227-bb98177c6948",
   "metadata": {},
   "outputs": [
    {
     "name": "stdout",
     "output_type": "stream",
     "text": [
      "Statevector([0.70710678+0.j, 0.70710678+0.j],\n",
      "            dims=(2,))\n"
     ]
    }
   ],
   "source": [
    "u"
   ]
  },
  {
   "cell_type": "code",
   "execution_count": 13,
   "id": "166fc2b4-e6f4-41d1-91f2-f8a702c9305e",
   "metadata": {},
   "outputs": [
    {
     "data": {
      "text/plain": [
       "'Statevector([0.70710678+0.j, 0.70710678+0.j],\\n            dims=(2,))'"
      ]
     },
     "execution_count": 13,
     "metadata": {},
     "output_type": "execute_result"
    }
   ],
   "source": [
    "u.draw()"
   ]
  },
  {
   "cell_type": "code",
   "execution_count": 14,
   "id": "e3852d61-e6f0-4632-b6e4-41c1285af43c",
   "metadata": {},
   "outputs": [
    {
     "data": {
      "text/latex": [
       "$$\\frac{\\sqrt{2}}{2} |0\\rangle+\\frac{\\sqrt{2}}{2} |1\\rangle$$"
      ],
      "text/plain": [
       "<IPython.core.display.Latex object>"
      ]
     },
     "execution_count": 14,
     "metadata": {},
     "output_type": "execute_result"
    }
   ],
   "source": [
    "u.draw(\"latex\")"
   ]
  },
  {
   "cell_type": "code",
   "execution_count": 15,
   "id": "55e6ee53-c50d-4d6a-8e00-4a2e65527729",
   "metadata": {},
   "outputs": [
    {
     "data": {
      "image/png": "[encoded data removed]",
      "text/plain": [
       "<Figure size 480x480 with 1 Axes>"
      ]
     },
     "execution_count": 15,
     "metadata": {},
     "output_type": "execute_result"
    }
   ],
   "source": [
    "u.draw(\"bloch\")"
   ]
  },
  {
   "cell_type": "code",
   "execution_count": 16,
   "id": "350bbd3d-2a7d-4546-8df4-c5a5df08f7cc",
   "metadata": {},
   "outputs": [
    {
     "data": {
      "image/png": "[encoded data removed]",
      "text/plain": [
       "<Figure size 700x700 with 2 Axes>"
      ]
     },
     "execution_count": 16,
     "metadata": {},
     "output_type": "execute_result"
    }
   ],
   "source": [
    "u.draw(\"qsphere\")"
   ]
  },
  {
   "cell_type": "markdown",
   "id": "bb50c76c-5631-4250-9777-ae7f79d54084",
   "metadata": {},
   "source": [
    "### Inner product\n",
    "* self.inner(other)=$\\langle self|other\\rangle$."
   ]
  },
  {
   "cell_type": "code",
   "execution_count": 17,
   "id": "6129ca1f-966c-4aab-ae48-95572a5cb998",
   "metadata": {},
   "outputs": [],
   "source": [
    "u = Statevector([1/np.sqrt(2), 1/np.sqrt(2)])\n",
    "v = Statevector([(1 + 2.0j)/3, -2/3])\n",
    "w = Statevector([1/3, 2/3])"
   ]
  },
  {
   "cell_type": "code",
   "execution_count": 18,
   "id": "ea4c7fc4-73a2-4588-a7b6-3ca1df3e4f52",
   "metadata": {},
   "outputs": [
    {
     "data": {
      "text/plain": [
       "(0.9999999999999998+0j)"
      ]
     },
     "execution_count": 18,
     "metadata": {},
     "output_type": "execute_result"
    }
   ],
   "source": [
    "u.inner(u)"
   ]
  },
  {
   "cell_type": "code",
   "execution_count": 19,
   "id": "5aedaa8f-dace-4eef-ab08-1198a84a7d2f",
   "metadata": {},
   "outputs": [
    {
     "data": {
      "text/plain": [
       "(-0.2357022603955158+0.4714045207910316j)"
      ]
     },
     "metadata": {},
     "output_type": "display_data"
    },
    {
     "data": {
      "text/plain": [
       "(-0.2357022603955158-0.4714045207910316j)"
      ]
     },
     "metadata": {},
     "output_type": "display_data"
    }
   ],
   "source": [
    "display(u.inner(v))\n",
    "display(v.inner(u))"
   ]
  },
  {
   "cell_type": "markdown",
   "id": "5431d39a-a847-4425-9f6d-8a195fe26689",
   "metadata": {},
   "source": [
    "### Check a statevector\n",
    "* A valid state vector should have its Euclidean norm equal to 1."
   ]
  },
  {
   "cell_type": "code",
   "execution_count": 20,
   "id": "5051f977-fa85-49cf-b173-7e51c2881a81",
   "metadata": {},
   "outputs": [
    {
     "data": {
      "text/plain": [
       "True"
      ]
     },
     "execution_count": 20,
     "metadata": {},
     "output_type": "execute_result"
    }
   ],
   "source": [
    "u.is_valid()"
   ]
  },
  {
   "cell_type": "code",
   "execution_count": 21,
   "id": "b5d81955-57d7-452d-a21e-e3eb0604bd3e",
   "metadata": {},
   "outputs": [
    {
     "data": {
      "text/plain": [
       "False"
      ]
     },
     "execution_count": 21,
     "metadata": {},
     "output_type": "execute_result"
    }
   ],
   "source": [
    "uu = u/2\n",
    "uu.is_valid()"
   ]
  },
  {
   "cell_type": "code",
   "execution_count": 22,
   "id": "0bfc0ffb-c522-420c-951d-bebb438ea136",
   "metadata": {},
   "outputs": [
    {
     "data": {
      "text/plain": [
       "False"
      ]
     },
     "execution_count": 22,
     "metadata": {},
     "output_type": "execute_result"
    }
   ],
   "source": [
    "w.is_valid()"
   ]
  },
  {
   "cell_type": "markdown",
   "id": "8a87e8f6-be80-489c-a699-87859ebf2beb",
   "metadata": {},
   "source": [
    "### Measurement of a statevector\n",
    "* `ket.measure()`\n",
    "* `ket.sample_count()`\n",
    "* The quantum state is projected onto the standard basis. \n",
    "* The original quantum state is NOT distroyed."
   ]
  },
  {
   "cell_type": "code",
   "execution_count": 23,
   "id": "bfe3b01e-a356-4d5f-8102-3874364bad3b",
   "metadata": {},
   "outputs": [
    {
     "data": {
      "text/latex": [
       "$$(\\frac{1}{3} + \\frac{2 i}{3}) |0\\rangle- \\frac{2}{3} |1\\rangle$$"
      ],
      "text/plain": [
       "<IPython.core.display.Latex object>"
      ]
     },
     "metadata": {},
     "output_type": "display_data"
    }
   ],
   "source": [
    "display(v.draw(\"latex\"))"
   ]
  },
  {
   "cell_type": "code",
   "execution_count": 24,
   "id": "a7b0876f-4764-4291-9916-f6f00a975ebf",
   "metadata": {},
   "outputs": [
    {
     "data": {
      "text/latex": [
       "$$(\\frac{1}{3} + \\frac{2 i}{3}) |0\\rangle- \\frac{2}{3} |1\\rangle$$"
      ],
      "text/plain": [
       "<IPython.core.display.Latex object>"
      ]
     },
     "metadata": {},
     "output_type": "display_data"
    },
    {
     "name": "stdout",
     "output_type": "stream",
     "text": [
      "Statevector([ 0.33333333+0.66666667j, -0.66666667+0.j        ],\n",
      "            dims=(2,))\n"
     ]
    },
    {
     "data": {
      "text/latex": [
       "$$(\\frac{\\sqrt{5}}{5} + \\frac{2 \\sqrt{5} i}{5}) |0\\rangle$$"
      ],
      "text/plain": [
       "<IPython.core.display.Latex object>"
      ]
     },
     "metadata": {},
     "output_type": "display_data"
    },
    {
     "name": "stdout",
     "output_type": "stream",
     "text": [
      "Statevector([0.4472136+0.89442719j, 0.       +0.j        ],\n",
      "            dims=(2,))\n"
     ]
    },
    {
     "data": {
      "text/latex": [
       "$$- |1\\rangle$$"
      ],
      "text/plain": [
       "<IPython.core.display.Latex object>"
      ]
     },
     "metadata": {},
     "output_type": "display_data"
    },
    {
     "name": "stdout",
     "output_type": "stream",
     "text": [
      "Statevector([ 0.+0.j, -1.+0.j],\n",
      "            dims=(2,))\n"
     ]
    }
   ],
   "source": [
    "v = Statevector([(1 + 2.0j) / 3, -2 / 3])\n",
    "v0 = Statevector([(1 + 2.0j) / 3, 0])\n",
    "v0 = v0/np.sqrt(v0.inner(v0))\n",
    "v1 = Statevector([0, -2 / 3])\n",
    "v1 = v1/np.sqrt(v1.inner(v1))\n",
    "\n",
    "display(v.draw(\"latex\"))\n",
    "print(v)\n",
    "display(v0.draw(\"latex\"))\n",
    "print(v0)\n",
    "display(v1.draw(\"latex\"))\n",
    "print(v1)"
   ]
  },
  {
   "cell_type": "code",
   "execution_count": 25,
   "id": "5d68641e-ab6e-4dc8-8394-1808e95261a2",
   "metadata": {},
   "outputs": [
    {
     "data": {
      "text/plain": [
       "('0',\n",
       " Statevector([0.4472136+0.89442719j, 0.       +0.j        ],\n",
       "             dims=(2,)))"
      ]
     },
     "execution_count": 25,
     "metadata": {},
     "output_type": "execute_result"
    }
   ],
   "source": [
    "v.measure()"
   ]
  },
  {
   "cell_type": "code",
   "execution_count": 26,
   "id": "4282a932-cf57-4cff-9529-a8dc41150423",
   "metadata": {},
   "outputs": [
    {
     "data": {
      "text/latex": [
       "$$(\\frac{1}{3} + \\frac{2 i}{3}) |0\\rangle- \\frac{2}{3} |1\\rangle$$"
      ],
      "text/plain": [
       "<IPython.core.display.Latex object>"
      ]
     },
     "execution_count": 26,
     "metadata": {},
     "output_type": "execute_result"
    }
   ],
   "source": [
    "v.draw(\"latex\")"
   ]
  },
  {
   "cell_type": "code",
   "execution_count": 27,
   "id": "921e60cd-f770-4d53-b11a-745ef17fe59b",
   "metadata": {},
   "outputs": [
    {
     "name": "stdout",
     "output_type": "stream",
     "text": [
      "0 Statevector([0.4472136+0.89442719j, 0.       +0.j        ],\n",
      "            dims=(2,))\n",
      "0 Statevector([0.4472136+0.89442719j, 0.       +0.j        ],\n",
      "            dims=(2,))\n",
      "0 Statevector([0.4472136+0.89442719j, 0.       +0.j        ],\n",
      "            dims=(2,))\n",
      "0 Statevector([0.4472136+0.89442719j, 0.       +0.j        ],\n",
      "            dims=(2,))\n",
      "0 Statevector([0.4472136+0.89442719j, 0.       +0.j        ],\n",
      "            dims=(2,))\n",
      "0 Statevector([0.4472136+0.89442719j, 0.       +0.j        ],\n",
      "            dims=(2,))\n",
      "1 Statevector([ 0.+0.j, -1.+0.j],\n",
      "            dims=(2,))\n",
      "0 Statevector([0.4472136+0.89442719j, 0.       +0.j        ],\n",
      "            dims=(2,))\n",
      "0 Statevector([0.4472136+0.89442719j, 0.       +0.j        ],\n",
      "            dims=(2,))\n",
      "0 Statevector([0.4472136+0.89442719j, 0.       +0.j        ],\n",
      "            dims=(2,))\n",
      "0 Statevector([0.4472136+0.89442719j, 0.       +0.j        ],\n",
      "            dims=(2,))\n",
      "1 Statevector([ 0.+0.j, -1.+0.j],\n",
      "            dims=(2,))\n",
      "1 Statevector([ 0.+0.j, -1.+0.j],\n",
      "            dims=(2,))\n",
      "1 Statevector([ 0.+0.j, -1.+0.j],\n",
      "            dims=(2,))\n",
      "0 Statevector([0.4472136+0.89442719j, 0.       +0.j        ],\n",
      "            dims=(2,))\n",
      "0 Statevector([0.4472136+0.89442719j, 0.       +0.j        ],\n",
      "            dims=(2,))\n",
      "0 Statevector([0.4472136+0.89442719j, 0.       +0.j        ],\n",
      "            dims=(2,))\n",
      "1 Statevector([ 0.+0.j, -1.+0.j],\n",
      "            dims=(2,))\n",
      "0 Statevector([0.4472136+0.89442719j, 0.       +0.j        ],\n",
      "            dims=(2,))\n",
      "1 Statevector([ 0.+0.j, -1.+0.j],\n",
      "            dims=(2,))\n"
     ]
    }
   ],
   "source": [
    "for _ in range(20):\n",
    "    out, state = v.measure()\n",
    "    print(out, state)"
   ]
  },
  {
   "cell_type": "markdown",
   "id": "01d45fa0-055a-4bb2-9533-57dd91395fdc",
   "metadata": {},
   "source": [
    "### Plot distribution\n",
    "* 'qiskit.visualization.plot_histogram' is dprecated."
   ]
  },
  {
   "cell_type": "code",
   "execution_count": 28,
   "id": "b36b6d67-1c22-4027-b9df-ce529c59d2b7",
   "metadata": {},
   "outputs": [],
   "source": [
    "from qiskit.visualization import plot_distribution"
   ]
  },
  {
   "cell_type": "code",
   "execution_count": 29,
   "id": "14f31d6b-497d-42c2-ab62-d7a6a84ee9d8",
   "metadata": {},
   "outputs": [
    {
     "data": {
      "text/plain": [
       "{'0': 4962, '1': 4038}"
      ]
     },
     "execution_count": 29,
     "metadata": {},
     "output_type": "execute_result"
    }
   ],
   "source": [
    "statistics = v.sample_counts(9000)\n",
    "statistics"
   ]
  },
  {
   "cell_type": "code",
   "execution_count": 30,
   "id": "52c22add-797b-4dd0-9eb0-fdded5949a41",
   "metadata": {},
   "outputs": [
    {
     "data": {
      "text/plain": [
       "{'0': 501086, '1': 398914}"
      ]
     },
     "metadata": {},
     "output_type": "display_data"
    },
    {
     "data": {
      "image/png": "[encoded data removed]",
      "text/plain": [
       "<Figure size 700x500 with 1 Axes>"
      ]
     },
     "execution_count": 30,
     "metadata": {},
     "output_type": "execute_result"
    }
   ],
   "source": [
    "statistics = v.sample_counts(900000)\n",
    "display(statistics)\n",
    "plot_distribution(statistics)"
   ]
  },
  {
   "cell_type": "code",
   "execution_count": 31,
   "id": "93851898-42f6-4215-bd1d-ebae7e1aadfb",
   "metadata": {},
   "outputs": [
    {
     "data": {
      "text/plain": [
       "0.5555555555555556"
      ]
     },
     "execution_count": 31,
     "metadata": {},
     "output_type": "execute_result"
    }
   ],
   "source": [
    "5/9"
   ]
  },
  {
   "cell_type": "markdown",
   "id": "d5fdd33a-ec57-4887-90cc-a099486e4363",
   "metadata": {},
   "source": [
    "## Qiskit operator\n",
    "* O|v> = v.evolve(O)"
   ]
  },
  {
   "cell_type": "code",
   "execution_count": 32,
   "id": "c32ae44c-42bd-4caf-925e-1b34d3c46a7e",
   "metadata": {},
   "outputs": [],
   "source": [
    "from qiskit.quantum_info import Operator"
   ]
  },
  {
   "cell_type": "code",
   "execution_count": 33,
   "id": "6984aa2c-0a34-4bca-a0c9-aaaeca9a771c",
   "metadata": {},
   "outputs": [
    {
     "data": {
      "text/latex": [
       "$$ |0\\rangle$$"
      ],
      "text/plain": [
       "<IPython.core.display.Latex object>"
      ]
     },
     "metadata": {},
     "output_type": "display_data"
    },
    {
     "data": {
      "text/latex": [
       "$$ |1\\rangle$$"
      ],
      "text/plain": [
       "<IPython.core.display.Latex object>"
      ]
     },
     "metadata": {},
     "output_type": "display_data"
    },
    {
     "data": {
      "text/latex": [
       "$$ |0\\rangle$$"
      ],
      "text/plain": [
       "<IPython.core.display.Latex object>"
      ]
     },
     "metadata": {},
     "output_type": "display_data"
    }
   ],
   "source": [
    "X = Operator([[0, 1], [1, 0]])\n",
    "v = Statevector([1, 0])\n",
    "display(v.draw(\"latex\"))\n",
    "display(v.evolve(X).draw(\"latex\"))\n",
    "display(v.draw(\"latex\"))"
   ]
  },
  {
   "cell_type": "code",
   "execution_count": null,
   "id": "39d52966-ba9f-45c3-9342-8de58aac253f",
   "metadata": {},
   "outputs": [],
   "source": []
  },
  {
   "cell_type": "code",
   "execution_count": 34,
   "id": "4c1bd6b7-db53-46c1-a101-4b89c1425f14",
   "metadata": {},
   "outputs": [
    {
     "data": {
      "text/plain": [
       "Operator([[0.+0.j, 1.+0.j],\n",
       "          [1.+0.j, 0.+0.j]],\n",
       "         input_dims=(2,), output_dims=(2,))"
      ]
     },
     "metadata": {},
     "output_type": "display_data"
    },
    {
     "data": {
      "text/latex": [
       "$$ |0\\rangle$$"
      ],
      "text/plain": [
       "<IPython.core.display.Latex object>"
      ]
     },
     "metadata": {},
     "output_type": "display_data"
    },
    {
     "data": {
      "text/latex": [
       "$$ |1\\rangle$$"
      ],
      "text/plain": [
       "<IPython.core.display.Latex object>"
      ]
     },
     "metadata": {},
     "output_type": "display_data"
    },
    {
     "data": {
      "text/latex": [
       "$$ |0\\rangle$$"
      ],
      "text/plain": [
       "<IPython.core.display.Latex object>"
      ]
     },
     "metadata": {},
     "output_type": "display_data"
    }
   ],
   "source": [
    "X = Operator([[0, 1], [1, 0]])\n",
    "display(X)\n",
    "v = Statevector([1, 0])\n",
    "display(v.draw(\"latex\"))\n",
    "v = v.evolve(X)\n",
    "display(v.draw(\"latex\"))\n",
    "v = v.evolve(X)\n",
    "display(v.draw(\"latex\"))"
   ]
  },
  {
   "cell_type": "code",
   "execution_count": 35,
   "id": "4d9d9706-b8a0-4492-b13e-9334b4dbffc3",
   "metadata": {},
   "outputs": [
    {
     "data": {
      "text/plain": [
       "Operator([[0.+0.j, 1.+0.j],\n",
       "          [1.+0.j, 0.+0.j]],\n",
       "         input_dims=(2,), output_dims=(2,))"
      ]
     },
     "execution_count": 35,
     "metadata": {},
     "output_type": "execute_result"
    }
   ],
   "source": [
    "X"
   ]
  },
  {
   "cell_type": "markdown",
   "id": "1a15c50d-6e07-4948-ab53-65906c87d150",
   "metadata": {},
   "source": [
    "## Qiskit quantum circuit"
   ]
  },
  {
   "cell_type": "code",
   "execution_count": 36,
   "id": "fe981bfd-0007-437a-a66d-59b52cdb3b6d",
   "metadata": {},
   "outputs": [],
   "source": [
    "from qiskit import QuantumCircuit"
   ]
  },
  {
   "cell_type": "markdown",
   "id": "b0620d8d-7cde-4dd2-a939-2ea4059e96fd",
   "metadata": {},
   "source": [
    "### Single qubit quantum circuit"
   ]
  },
  {
   "cell_type": "code",
   "execution_count": 37,
   "id": "14312734-3717-4a45-8b35-e92deed8400d",
   "metadata": {},
   "outputs": [
    {
     "data": {
      "text/html": [
       "<pre style=\"word-wrap: normal;white-space: pre;background: #fff0;line-height: 1.1;font-family: &quot;Courier New&quot;,Courier,monospace\">   \n",
       "q: \n",
       "   </pre>"
      ],
      "text/plain": [
       "   \n",
       "q: \n",
       "   "
      ]
     },
     "metadata": {},
     "output_type": "display_data"
    }
   ],
   "source": [
    "circuit = QuantumCircuit(1)\n",
    "display(circuit.draw())"
   ]
  },
  {
   "cell_type": "code",
   "execution_count": 38,
   "id": "de6d7286-be11-4d5b-a9db-d3c573deefc4",
   "metadata": {},
   "outputs": [
    {
     "data": {
      "text/html": [
       "<pre style=\"word-wrap: normal;white-space: pre;background: #fff0;line-height: 1.1;font-family: &quot;Courier New&quot;,Courier,monospace\">     \n",
       "q_0: \n",
       "     \n",
       "q_1: \n",
       "     \n",
       "q_2: \n",
       "     </pre>"
      ],
      "text/plain": [
       "     \n",
       "q_0: \n",
       "     \n",
       "q_1: \n",
       "     \n",
       "q_2: \n",
       "     "
      ]
     },
     "metadata": {},
     "output_type": "display_data"
    }
   ],
   "source": [
    "circuit = QuantumCircuit(3)\n",
    "display(circuit.draw())"
   ]
  },
  {
   "cell_type": "code",
   "execution_count": 39,
   "id": "f97f6e1f-c63f-40db-b33a-3a9316474111",
   "metadata": {},
   "outputs": [
    {
     "data": {
      "image/png": "[encoded data removed]",
      "text/plain": [
       "<Figure size 162.08x284.278 with 1 Axes>"
      ]
     },
     "metadata": {},
     "output_type": "display_data"
    }
   ],
   "source": [
    "display(circuit.draw('mpl'))"
   ]
  },
  {
   "cell_type": "code",
   "execution_count": 40,
   "id": "d02569a3-7841-4c83-a33d-fdd46e8ba7bf",
   "metadata": {},
   "outputs": [
    {
     "data": {
      "text/html": [
       "<pre style=\"word-wrap: normal;white-space: pre;background: #fff0;line-height: 1.1;font-family: &quot;Courier New&quot;,Courier,monospace\">     ┌───┐\n",
       "q_0: ┤ H ├\n",
       "     └───┘\n",
       "q_1: ─────\n",
       "          \n",
       "q_2: ─────\n",
       "          </pre>"
      ],
      "text/plain": [
       "     ┌───┐\n",
       "q_0: ┤ H ├\n",
       "     └───┘\n",
       "q_1: ─────\n",
       "          \n",
       "q_2: ─────\n",
       "          "
      ]
     },
     "metadata": {},
     "output_type": "display_data"
    }
   ],
   "source": [
    "circuit.h(0)\n",
    "display(circuit.draw())"
   ]
  },
  {
   "cell_type": "code",
   "execution_count": 41,
   "id": "54597586-8a07-41dd-a1ca-5f64f869ba3f",
   "metadata": {},
   "outputs": [
    {
     "data": {
      "image/png": "[encoded data removed]",
      "text/plain": [
       "<Figure size 203.885x284.278 with 1 Axes>"
      ]
     },
     "metadata": {},
     "output_type": "display_data"
    }
   ],
   "source": [
    "display(circuit.draw('mpl'))"
   ]
  },
  {
   "cell_type": "code",
   "execution_count": 42,
   "id": "08b7c666-7507-450e-a7cc-e9e048f1e955",
   "metadata": {},
   "outputs": [
    {
     "data": {
      "text/html": [
       "<pre style=\"word-wrap: normal;white-space: pre;background: #fff0;line-height: 1.1;font-family: &quot;Courier New&quot;,Courier,monospace\">     ┌───┐┌───┐\n",
       "q_0: ┤ H ├┤ T ├\n",
       "     └───┘└───┘\n",
       "q_1: ──────────\n",
       "               \n",
       "q_2: ──────────\n",
       "               </pre>"
      ],
      "text/plain": [
       "     ┌───┐┌───┐\n",
       "q_0: ┤ H ├┤ T ├\n",
       "     └───┘└───┘\n",
       "q_1: ──────────\n",
       "               \n",
       "q_2: ──────────\n",
       "               "
      ]
     },
     "metadata": {},
     "output_type": "display_data"
    }
   ],
   "source": [
    "circuit.t(0)\n",
    "display(circuit.draw())"
   ]
  },
  {
   "cell_type": "code",
   "execution_count": 43,
   "id": "2e5015da-1363-4e9d-9f75-cd253ba12e54",
   "metadata": {},
   "outputs": [
    {
     "data": {
      "image/png": "[encoded data removed]",
      "text/plain": [
       "<Figure size 287.496x284.278 with 1 Axes>"
      ]
     },
     "metadata": {},
     "output_type": "display_data"
    }
   ],
   "source": [
    "display(circuit.draw('mpl'))"
   ]
  },
  {
   "cell_type": "code",
   "execution_count": 44,
   "id": "d339d9b0-c342-41fe-91d1-591e31200775",
   "metadata": {},
   "outputs": [
    {
     "data": {
      "text/plain": [
       "[0.70710678+0.j ,0.5       +0.5j]"
      ]
     },
     "execution_count": 44,
     "metadata": {},
     "output_type": "execute_result"
    }
   ],
   "source": [
    "ket0 = Statevector([1, 0])\n",
    "v = ket0.evolve(circuit)\n",
    "v.draw(\"text\")"
   ]
  },
  {
   "cell_type": "code",
   "execution_count": 45,
   "id": "c7decf5e-f1c3-47ec-87ea-97619c8b926c",
   "metadata": {},
   "outputs": [
    {
     "data": {
      "image/png": "[encoded data removed]",
      "text/plain": [
       "<Figure size 700x500 with 1 Axes>"
      ]
     },
     "execution_count": 45,
     "metadata": {},
     "output_type": "execute_result"
    }
   ],
   "source": [
    "statistics = v.sample_counts(4000)\n",
    "plot_distribution(statistics)"
   ]
  }
 ],
 "metadata": {
  "kernelspec": {
   "display_name": "Python 3 (ipykernel)",
   "language": "python",
   "name": "python3"
  },
  "language_info": {
   "codemirror_mode": {
    "name": "ipython",
    "version": 3
   },
   "file_extension": ".py",
   "mimetype": "text/x-python",
   "name": "python",
   "nbconvert_exporter": "python",
   "pygments_lexer": "ipython3",
   "version": "3.10.6"
  }
 },
 "nbformat": 4,
 "nbformat_minor": 5
}
