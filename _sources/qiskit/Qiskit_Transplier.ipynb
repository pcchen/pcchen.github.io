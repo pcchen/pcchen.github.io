{
 "cells": [
  {
   "cell_type": "markdown",
   "id": "f65806d1-22a7-4e48-a136-ee5bbc0c02d2",
   "metadata": {},
   "source": [
    "# Qiskit: Transpiler\n",
    "* Updated on 11/15/2023\n",
    "* https://docs.quantum-computing.ibm.com/api/qiskit/transpiler"
   ]
  },
  {
   "cell_type": "code",
   "execution_count": null,
   "id": "09d03a5b-e9ac-4903-8b48-2668936f04db",
   "metadata": {},
   "outputs": [],
   "source": []
  }
 ],
 "metadata": {
  "kernelspec": {
   "display_name": "Python 3 (ipykernel)",
   "language": "python",
   "name": "python3"
  },
  "language_info": {
   "codemirror_mode": {
    "name": "ipython",
    "version": 3
   },
   "file_extension": ".py",
   "mimetype": "text/x-python",
   "name": "python",
   "nbconvert_exporter": "python",
   "pygments_lexer": "ipython3",
   "version": "3.10.6"
  }
 },
 "nbformat": 4,
 "nbformat_minor": 5
}
