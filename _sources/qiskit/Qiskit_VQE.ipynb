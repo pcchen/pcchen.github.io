{
 "cells": [
  {
   "cell_type": "markdown",
   "id": "26879499-48fc-4d91-b49c-2b80fe1a1083",
   "metadata": {},
   "source": [
    "# Qiskit: Variational Quantum Algorithm\n",
    "* Last updated on 12/06/2023\n",
    "* Ref: https://learning.quantum.ibm.com/course/variational-algorithm-design\n",
    "\n"
   ]
  },
  {
   "cell_type": "code",
   "execution_count": 6,
   "id": "6699424b-d0c1-4b17-a2e5-a84810c736f5",
   "metadata": {},
   "outputs": [
    {
     "name": "stdout",
     "output_type": "stream",
     "text": [
      "0.45.0\n"
     ]
    }
   ],
   "source": [
    "import qiskit\n",
    "print(qiskit.__version__)"
   ]
  },
  {
   "cell_type": "code",
   "execution_count": null,
   "id": "db24af63-c8a9-4f8a-b209-97db22715e17",
   "metadata": {},
   "outputs": [],
   "source": []
  },
  {
   "cell_type": "markdown",
   "id": "5e89ae3c-83df-4af2-ae85-20f6aeb55889",
   "metadata": {},
   "source": [
    "## Reference state"
   ]
  },
  {
   "cell_type": "markdown",
   "id": "3a28c5d2-db43-4bf3-9d6a-78ea06c11b17",
   "metadata": {},
   "source": [
    "### Classical reference state $|\\rho\\rangle=001\\rangle$."
   ]
  },
  {
   "cell_type": "code",
   "execution_count": 2,
   "id": "f99f9359-1163-4353-a0e8-83e5d676ba24",
   "metadata": {},
   "outputs": [
    {
     "data": {
      "text/html": [
       "<pre style=\"word-wrap: normal;white-space: pre;background: #fff0;line-height: 1.1;font-family: &quot;Courier New&quot;,Courier,monospace\">     ┌───┐\n",
       "q_0: ┤ X ├\n",
       "     └───┘\n",
       "q_1: ─────\n",
       "          \n",
       "q_2: ─────\n",
       "          </pre>"
      ],
      "text/plain": [
       "     ┌───┐\n",
       "q_0: ┤ X ├\n",
       "     └───┘\n",
       "q_1: ─────\n",
       "          \n",
       "q_2: ─────\n",
       "          "
      ]
     },
     "execution_count": 2,
     "metadata": {},
     "output_type": "execute_result"
    }
   ],
   "source": [
    "from qiskit import QuantumCircuit\n",
    "\n",
    "qc = QuantumCircuit(3)\n",
    "qc.x(0)\n",
    "\n",
    "qc.draw()"
   ]
  },
  {
   "cell_type": "markdown",
   "id": "68e6ff2e-be3d-46bc-a16e-5b127f9a33ea",
   "metadata": {},
   "source": [
    "### Quantum reference state $|\\rho\\rangle=001\\rangle$."
   ]
  },
  {
   "cell_type": "code",
   "execution_count": 4,
   "id": "50394005-bc42-402e-9f31-f632a62210d4",
   "metadata": {},
   "outputs": [
    {
     "data": {
      "text/html": [
       "<pre style=\"word-wrap: normal;white-space: pre;background: #fff0;line-height: 1.1;font-family: &quot;Courier New&quot;,Courier,monospace\">     ┌───┐     \n",
       "q_0: ┤ H ├──■──\n",
       "     └───┘┌─┴─┐\n",
       "q_1: ─────┤ X ├\n",
       "     ┌───┐└───┘\n",
       "q_2: ┤ X ├─────\n",
       "     └───┘     </pre>"
      ],
      "text/plain": [
       "     ┌───┐     \n",
       "q_0: ┤ H ├──■──\n",
       "     └───┘┌─┴─┐\n",
       "q_1: ─────┤ X ├\n",
       "     ┌───┐└───┘\n",
       "q_2: ┤ X ├─────\n",
       "     └───┘     "
      ]
     },
     "execution_count": 4,
     "metadata": {},
     "output_type": "execute_result"
    }
   ],
   "source": [
    "qc = QuantumCircuit(3)\n",
    "qc.h(0)\n",
    "qc.cx(0, 1)\n",
    "qc.x(2)\n",
    "\n",
    "qc.draw()"
   ]
  },
  {
   "cell_type": "code",
   "execution_count": null,
   "id": "830afa04-f9d5-4b04-978a-28cb9612a267",
   "metadata": {},
   "outputs": [],
   "source": []
  },
  {
   "cell_type": "code",
   "execution_count": 5,
   "id": "27eb41cc-4fc7-4d19-97ac-b35cd30ed656",
   "metadata": {},
   "outputs": [
    {
     "name": "stderr",
     "output_type": "stream",
     "text": [
      "/var/folders/vx/2rtqxt1j1xq1b3b7ltbg_ch00000gn/T/ipykernel_4882/2905944026.py:7: DeprecationWarning: The method ``qiskit.circuit.quantumcircuit.QuantumCircuit.bind_parameters()`` is deprecated as of qiskit 0.45.0. It will be removed no earlier than 3 months after the release date. Use assign_parameters() instead\n",
      "  reference_circuit = reference_circuit.bind_parameters(theta_list)\n"
     ]
    },
    {
     "data": {
      "image/png": "[encoded data removed]",
      "text/plain": [
       "<Figure size 370.906x200.667 with 1 Axes>"
      ]
     },
     "execution_count": 5,
     "metadata": {},
     "output_type": "execute_result"
    }
   ],
   "source": [
    "from qiskit.circuit.library import TwoLocal\n",
    "from math import pi\n",
    "\n",
    "reference_circuit = TwoLocal(2, \"rx\", \"cz\", entanglement=\"linear\", reps=1)\n",
    "theta_list = [pi / 2, pi / 3, pi / 3, pi / 2]\n",
    "\n",
    "reference_circuit = reference_circuit.bind_parameters(theta_list)\n",
    "\n",
    "reference_circuit.decompose().draw(\"mpl\")"
   ]
  },
  {
   "cell_type": "code",
   "execution_count": 7,
   "id": "39d7308e-4cc3-4228-9897-103d92a551b7",
   "metadata": {},
   "outputs": [
    {
     "data": {
      "image/png": "[encoded data removed]",
      "text/plain": [
       "<Figure size 370.906x200.667 with 1 Axes>"
      ]
     },
     "execution_count": 7,
     "metadata": {},
     "output_type": "execute_result"
    }
   ],
   "source": [
    "from qiskit.circuit.library import TwoLocal\n",
    "from math import pi\n",
    "\n",
    "reference_circuit = TwoLocal(2, \"rx\", \"cz\", entanglement=\"linear\", reps=1)\n",
    "theta_list = [pi / 2, pi / 3, pi / 3, pi / 2]\n",
    "\n",
    "reference_circuit = reference_circuit.assign_parameters(theta_list)\n",
    "\n",
    "reference_circuit.decompose().draw(\"mpl\")"
   ]
  },
  {
   "cell_type": "markdown",
   "id": "2f064f9f-46e2-4bd0-9ff0-08113663a22d",
   "metadata": {},
   "source": [
    "## Parameterized Quantum Circuits (PQC)"
   ]
  },
  {
   "cell_type": "code",
   "execution_count": 9,
   "id": "bac139ba-6d7a-4603-8874-e3ec46b0fec2",
   "metadata": {},
   "outputs": [
    {
     "data": {
      "text/html": [
       "<pre style=\"word-wrap: normal;white-space: pre;background: #fff0;line-height: 1.1;font-family: &quot;Courier New&quot;,Courier,monospace\">     ┌───────┐     \n",
       "q_0: ┤ Rx(θ) ├──■──\n",
       "     └───────┘┌─┴─┐\n",
       "q_1: ─────────┤ X ├\n",
       "       ┌───┐  └───┘\n",
       "q_2: ──┤ X ├───────\n",
       "       └───┘       </pre>"
      ],
      "text/plain": [
       "     ┌───────┐     \n",
       "q_0: ┤ Rx(θ) ├──■──\n",
       "     └───────┘┌─┴─┐\n",
       "q_1: ─────────┤ X ├\n",
       "       ┌───┐  └───┘\n",
       "q_2: ──┤ X ├───────\n",
       "       └───┘       "
      ]
     },
     "execution_count": 9,
     "metadata": {},
     "output_type": "execute_result"
    }
   ],
   "source": [
    "from qiskit.circuit import QuantumCircuit, Parameter\n",
    "\n",
    "theta = Parameter(\"θ\")\n",
    "\n",
    "qc = QuantumCircuit(3)\n",
    "qc.rx(theta, 0)\n",
    "qc.cx(0, 1)\n",
    "qc.x(2)\n",
    "\n",
    "qc.draw()"
   ]
  },
  {
   "cell_type": "code",
   "execution_count": 12,
   "id": "3073231b-07d8-4327-ac3d-026dd383a7a1",
   "metadata": {},
   "outputs": [
    {
     "data": {
      "text/html": [
       "<pre style=\"word-wrap: normal;white-space: pre;background: #fff0;line-height: 1.1;font-family: &quot;Courier New&quot;,Courier,monospace\">     ┌─────────┐     \n",
       "q_0: ┤ Rx(π/3) ├──■──\n",
       "     └─────────┘┌─┴─┐\n",
       "q_1: ───────────┤ X ├\n",
       "        ┌───┐   └───┘\n",
       "q_2: ───┤ X ├────────\n",
       "        └───┘        </pre>"
      ],
      "text/plain": [
       "     ┌─────────┐     \n",
       "q_0: ┤ Rx(π/3) ├──■──\n",
       "     └─────────┘┌─┴─┐\n",
       "q_1: ───────────┤ X ├\n",
       "        ┌───┐   └───┘\n",
       "q_2: ───┤ X ├────────\n",
       "        └───┘        "
      ]
     },
     "metadata": {},
     "output_type": "display_data"
    },
    {
     "data": {
      "text/html": [
       "<pre style=\"word-wrap: normal;white-space: pre;background: #fff0;line-height: 1.1;font-family: &quot;Courier New&quot;,Courier,monospace\">     ┌─────────┐     \n",
       "q_0: ┤ Rx(π/2) ├──■──\n",
       "     └─────────┘┌─┴─┐\n",
       "q_1: ───────────┤ X ├\n",
       "        ┌───┐   └───┘\n",
       "q_2: ───┤ X ├────────\n",
       "        └───┘        </pre>"
      ],
      "text/plain": [
       "     ┌─────────┐     \n",
       "q_0: ┤ Rx(π/2) ├──■──\n",
       "     └─────────┘┌─┴─┐\n",
       "q_1: ───────────┤ X ├\n",
       "        ┌───┐   └───┘\n",
       "q_2: ───┤ X ├────────\n",
       "        └───┘        "
      ]
     },
     "metadata": {},
     "output_type": "display_data"
    }
   ],
   "source": [
    "from math import pi\n",
    "\n",
    "angle_list = [pi / 3, pi / 2]\n",
    "circuits = [qc.assign_parameters({theta: angle}) for angle in angle_list]\n",
    "\n",
    "for circuit in circuits:\n",
    "    display(circuit.draw())"
   ]
  },
  {
   "cell_type": "code",
   "execution_count": null,
   "id": "12c7802f-f7af-4c99-88ff-1704ee7312c6",
   "metadata": {},
   "outputs": [],
   "source": []
  },
  {
   "cell_type": "code",
   "execution_count": null,
   "id": "b6af6da9-0880-4708-980f-b3258500b387",
   "metadata": {},
   "outputs": [],
   "source": []
  },
  {
   "cell_type": "code",
   "execution_count": 14,
   "id": "1ffa51ac-9d5e-470c-ad17-fdc2b1975551",
   "metadata": {},
   "outputs": [
    {
     "data": {
      "text/html": [
       "<pre style=\"word-wrap: normal;white-space: pre;background: #fff0;line-height: 1.1;font-family: &quot;Courier New&quot;,Courier,monospace\">     ┌──────────┐             ░                ┌───┐ ░  ┌──────────┐»\n",
       "q_0: ┤ Rx(θ[0]) ├─────■───────░───■────■───────┤ X ├─░──┤ Rx(θ[7]) ├»\n",
       "     ├──────────┤┌────┴─────┐ ░   │    │  ┌───┐└─┬─┘ ░  ├──────────┤»\n",
       "q_1: ┤ Rx(θ[1]) ├┤ Rz(θ[5]) ├─░───■────┼──┤ X ├──■───░──┤ Rx(θ[8]) ├»\n",
       "     ├──────────┤└──────────┘ ░ ┌─┴─┐  │  └─┬─┘  │   ░  ├──────────┤»\n",
       "q_2: ┤ Rx(θ[2]) ├─────■───────░─┤ X ├──■────■────┼───░──┤ Rx(θ[9]) ├»\n",
       "     ├──────────┤┌────┴─────┐ ░ └───┘┌─┴─┐  │    │   ░ ┌┴──────────┤»\n",
       "q_3: ┤ Rx(θ[3]) ├┤ Rz(θ[6]) ├─░──────┤ X ├──┼────■───░─┤ Rx(θ[10]) ├»\n",
       "     ├──────────┤└──────────┘ ░      └───┘  │        ░ ├───────────┤»\n",
       "q_4: ┤ Rx(θ[4]) ├─────────────░─────────────■────────░─┤ Rx(θ[11]) ├»\n",
       "     └──────────┘             ░                      ░ └───────────┘»\n",
       "«                   ░                ┌───┐ ░ ┌───────────┐             \n",
       "«q_0: ──────■───────░───■────■───────┤ X ├─░─┤ Rx(θ[14]) ├──────■──────\n",
       "«     ┌─────┴─────┐ ░   │    │  ┌───┐└─┬─┘ ░ ├───────────┤┌─────┴─────┐\n",
       "«q_1: ┤ Rz(θ[12]) ├─░───■────┼──┤ X ├──■───░─┤ Rx(θ[15]) ├┤ Rz(θ[19]) ├\n",
       "«     └───────────┘ ░ ┌─┴─┐  │  └─┬─┘  │   ░ ├───────────┤└───────────┘\n",
       "«q_2: ──────■───────░─┤ X ├──■────■────┼───░─┤ Rx(θ[16]) ├──────■──────\n",
       "«     ┌─────┴─────┐ ░ └───┘┌─┴─┐  │    │   ░ ├───────────┤┌─────┴─────┐\n",
       "«q_3: ┤ Rz(θ[13]) ├─░──────┤ X ├──┼────■───░─┤ Rx(θ[17]) ├┤ Rz(θ[20]) ├\n",
       "«     └───────────┘ ░      └───┘  │        ░ ├───────────┤└───────────┘\n",
       "«q_4: ──────────────░─────────────■────────░─┤ Rx(θ[18]) ├─────────────\n",
       "«                   ░                      ░ └───────────┘             </pre>"
      ],
      "text/plain": [
       "     ┌──────────┐             ░                ┌───┐ ░  ┌──────────┐»\n",
       "q_0: ┤ Rx(θ[0]) ├─────■───────░───■────■───────┤ X ├─░──┤ Rx(θ[7]) ├»\n",
       "     ├──────────┤┌────┴─────┐ ░   │    │  ┌───┐└─┬─┘ ░  ├──────────┤»\n",
       "q_1: ┤ Rx(θ[1]) ├┤ Rz(θ[5]) ├─░───■────┼──┤ X ├──■───░──┤ Rx(θ[8]) ├»\n",
       "     ├──────────┤└──────────┘ ░ ┌─┴─┐  │  └─┬─┘  │   ░  ├──────────┤»\n",
       "q_2: ┤ Rx(θ[2]) ├─────■───────░─┤ X ├──■────■────┼───░──┤ Rx(θ[9]) ├»\n",
       "     ├──────────┤┌────┴─────┐ ░ └───┘┌─┴─┐  │    │   ░ ┌┴──────────┤»\n",
       "q_3: ┤ Rx(θ[3]) ├┤ Rz(θ[6]) ├─░──────┤ X ├──┼────■───░─┤ Rx(θ[10]) ├»\n",
       "     ├──────────┤└──────────┘ ░      └───┘  │        ░ ├───────────┤»\n",
       "q_4: ┤ Rx(θ[4]) ├─────────────░─────────────■────────░─┤ Rx(θ[11]) ├»\n",
       "     └──────────┘             ░                      ░ └───────────┘»\n",
       "«                   ░                ┌───┐ ░ ┌───────────┐             \n",
       "«q_0: ──────■───────░───■────■───────┤ X ├─░─┤ Rx(θ[14]) ├──────■──────\n",
       "«     ┌─────┴─────┐ ░   │    │  ┌───┐└─┬─┘ ░ ├───────────┤┌─────┴─────┐\n",
       "«q_1: ┤ Rz(θ[12]) ├─░───■────┼──┤ X ├──■───░─┤ Rx(θ[15]) ├┤ Rz(θ[19]) ├\n",
       "«     └───────────┘ ░ ┌─┴─┐  │  └─┬─┘  │   ░ ├───────────┤└───────────┘\n",
       "«q_2: ──────■───────░─┤ X ├──■────■────┼───░─┤ Rx(θ[16]) ├──────■──────\n",
       "«     ┌─────┴─────┐ ░ └───┘┌─┴─┐  │    │   ░ ├───────────┤┌─────┴─────┐\n",
       "«q_3: ┤ Rz(θ[13]) ├─░──────┤ X ├──┼────■───░─┤ Rx(θ[17]) ├┤ Rz(θ[20]) ├\n",
       "«     └───────────┘ ░      └───┘  │        ░ ├───────────┤└───────────┘\n",
       "«q_4: ──────────────░─────────────■────────░─┤ Rx(θ[18]) ├─────────────\n",
       "«                   ░                      ░ └───────────┘             "
      ]
     },
     "execution_count": 14,
     "metadata": {},
     "output_type": "execute_result"
    }
   ],
   "source": [
    "from qiskit.circuit.library import NLocal, CCXGate, CRZGate, RXGate\n",
    "from qiskit.circuit import Parameter\n",
    "\n",
    "theta = Parameter(\"θ\")\n",
    "ansatz = NLocal(\n",
    "    num_qubits=5,\n",
    "    rotation_blocks=[RXGate(theta), CRZGate(theta)],\n",
    "    entanglement_blocks=CCXGate(),\n",
    "    entanglement=[[0, 1, 2], [0, 2, 3], [4, 2, 1], [3, 1, 0]],\n",
    "    reps=2,\n",
    "    insert_barriers=True,\n",
    ")\n",
    "ansatz.decompose().draw()"
   ]
  },
  {
   "cell_type": "code",
   "execution_count": null,
   "id": "df20d069-5d11-4530-ae65-9dec706e5195",
   "metadata": {},
   "outputs": [],
   "source": []
  },
  {
   "cell_type": "code",
   "execution_count": null,
   "id": "91bfcb57-99a7-44e4-b162-df80c16a2e7f",
   "metadata": {},
   "outputs": [],
   "source": []
  },
  {
   "cell_type": "code",
   "execution_count": 16,
   "id": "82d85dad-8f0f-4214-9ee8-08660300e12e",
   "metadata": {},
   "outputs": [
    {
     "data": {
      "image/png": "[encoded data removed]",
      "text/plain": [
       "<Figure size 185.453x117.056 with 1 Axes>"
      ]
     },
     "execution_count": 16,
     "metadata": {},
     "output_type": "execute_result"
    }
   ],
   "source": [
    "from qiskit import QuantumCircuit\n",
    "from qiskit.quantum_info import SparsePauliOp\n",
    "\n",
    "# The following code will work for any other initial single-qubit state and observable\n",
    "original_circuit = QuantumCircuit(1)\n",
    "original_circuit.h(0)\n",
    "\n",
    "H = SparsePauliOp([\"X\", \"Z\"], [2, -1])\n",
    "\n",
    "aux_circuits = []\n",
    "for pauli in H.paulis:\n",
    "    aux_circ = original_circuit.copy()\n",
    "    aux_circ.barrier()\n",
    "    if str(pauli) == \"X\":\n",
    "        aux_circ.h(0)\n",
    "    elif str(pauli) == \"Y\":\n",
    "        aux_circ.sdg(0)\n",
    "        aux_circ.h(0)\n",
    "    else:\n",
    "        aux_circ.id(0)\n",
    "    aux_circ.measure_all()\n",
    "    aux_circuits.append(aux_circ)\n",
    "\n",
    "original_circuit.draw(\"mpl\")"
   ]
  },
  {
   "cell_type": "code",
   "execution_count": 17,
   "id": "b5439a1a-a3b0-4b97-959d-7e6963590514",
   "metadata": {},
   "outputs": [
    {
     "data": {
      "image/png": "[encoded data removed]",
      "text/plain": [
       "<Figure size 580.387x200.667 with 1 Axes>"
      ]
     },
     "execution_count": 17,
     "metadata": {},
     "output_type": "execute_result"
    }
   ],
   "source": [
    "# Auxiliary circuit for X\n",
    "aux_circuits[0].draw('mpl')"
   ]
  },
  {
   "cell_type": "code",
   "execution_count": 18,
   "id": "03142281-a57b-4da8-a4da-36dd941d0846",
   "metadata": {},
   "outputs": [
    {
     "name": "stdout",
     "output_type": "stream",
     "text": [
      "Sampler results:\n",
      "  >> Expected value of X: 1.00000\n",
      "  >> Expected value of Z: 0.00000\n",
      "  >> Total expected value: 2.00000\n",
      "Estimator results:\n",
      "  >> Expected value of X: 1.00000\n",
      "  >> Expected value of Z: 0.00000\n",
      "  >> Total expected value: 2.00000\n"
     ]
    }
   ],
   "source": [
    "from qiskit.primitives import Sampler, Estimator\n",
    "from qiskit.circuit.library import IGate, ZGate\n",
    "import numpy as np\n",
    "\n",
    "\n",
    "## SAMPLER\n",
    "sampler = Sampler()\n",
    "job = sampler.run(aux_circuits)\n",
    "probability_dists = job.result().quasi_dists\n",
    "\n",
    "expvals = []\n",
    "for dist, pauli in zip(probability_dists, H.paulis):\n",
    "    val = 0\n",
    "    if str(pauli) == \"I\":\n",
    "        Lambda = IGate().to_matrix().real\n",
    "    else:\n",
    "        Lambda = ZGate().to_matrix().real\n",
    "    val += Lambda[0][0] * dist.get(0, 0)\n",
    "    val += Lambda[1][1] * dist.get(1, 0)\n",
    "    expvals.append(val)\n",
    "\n",
    "\n",
    "print(\"Sampler results:\")\n",
    "for (pauli, expval) in zip(H.paulis, expvals):\n",
    "    print(f\"  >> Expected value of {str(pauli)}: {expval:.5f}\")\n",
    "\n",
    "total_expval = np.sum(H.coeffs * expvals).real\n",
    "print(f\"  >> Total expected value: {total_expval:.5f}\")\n",
    "\n",
    "\n",
    "## ESTIMATOR\n",
    "observables = [\n",
    "    *H.paulis,\n",
    "    H,\n",
    "]  # Note: run for individual Paulis as well as full observable H\n",
    "\n",
    "estimator = Estimator()\n",
    "job = estimator.run([original_circuit] * len(observables), observables)\n",
    "estimator_expvals = job.result().values\n",
    "\n",
    "print(\"Estimator results:\")\n",
    "for (obs, expval) in zip(observables, estimator_expvals):\n",
    "    if obs is not H:\n",
    "        print(f\"  >> Expected value of {str(obs)}: {expval:.5f}\")\n",
    "    else:\n",
    "        print(f\"  >> Total expected value: {expval:.5f}\")"
   ]
  },
  {
   "cell_type": "code",
   "execution_count": null,
   "id": "0768b79c-b6c8-48df-a5f0-6ff0d304f6c0",
   "metadata": {},
   "outputs": [],
   "source": []
  },
  {
   "cell_type": "code",
   "execution_count": null,
   "id": "cedd49c9-c5d1-43e1-a0e5-feb8f1c03840",
   "metadata": {},
   "outputs": [],
   "source": []
  },
  {
   "cell_type": "code",
   "execution_count": null,
   "id": "5830ba2b-c00c-46b0-b1c3-0e21a5092ef5",
   "metadata": {},
   "outputs": [],
   "source": []
  },
  {
   "cell_type": "code",
   "execution_count": 4,
   "id": "984331ce-f4ac-4b6a-91d1-61fcfa83872e",
   "metadata": {},
   "outputs": [
    {
     "name": "stderr",
     "output_type": "stream",
     "text": [
      "/Users/pcchen/miniforge3/lib/python3.10/site-packages/qiskit/visualization/circuit/matplotlib.py:266: FutureWarning: The default matplotlib drawer scheme will be changed to \"iqp\" in a following release. To silence this warning, specify the current default explicitly as style=\"clifford\", or the new default as style=\"iqp\".\n",
      "  self._style, def_font_ratio = load_style(self._style)\n"
     ]
    },
    {
     "data": {
      "image/png": "[encoded data removed]",
      "text/plain": [
       "<Figure size 621.739x200.667 with 1 Axes>"
      ]
     },
     "execution_count": 4,
     "metadata": {},
     "output_type": "execute_result"
    }
   ],
   "source": [
    "from qiskit import QuantumCircuit\n",
    "from qiskit.quantum_info import SparsePauliOp\n",
    "from qiskit.circuit.library import TwoLocal\n",
    "import numpy as np\n",
    "\n",
    "theta_list = (2 * np.pi * np.random.rand(1, 8)).tolist()\n",
    "observable = SparsePauliOp.from_list([(\"XX\", 1), (\"YY\", -3)])\n",
    "\n",
    "reference_circuit = QuantumCircuit(2)\n",
    "reference_circuit.x(0)\n",
    "\n",
    "variational_form = TwoLocal(\n",
    "    2,\n",
    "    rotation_blocks=[\"rz\", \"ry\"],\n",
    "    entanglement_blocks=\"cx\",\n",
    "    entanglement=\"linear\",\n",
    "    reps=1,\n",
    ")\n",
    "ansatz = reference_circuit.compose(variational_form)\n",
    "\n",
    "ansatz.decompose().draw('mpl')"
   ]
  },
  {
   "cell_type": "code",
   "execution_count": 5,
   "id": "21b27af3-fbd2-4d85-bbfa-ab08af311d99",
   "metadata": {},
   "outputs": [],
   "source": [
    "def cost_func_vqe(params, ansatz, hamiltonian, estimator):\n",
    "    \"\"\"Return estimate of energy from estimator\n",
    "\n",
    "    Parameters:\n",
    "        params (ndarray): Array of ansatz parameters\n",
    "        ansatz (QuantumCircuit): Parameterized ansatz circuit\n",
    "        hamiltonian (SparsePauliOp): Operator representation of Hamiltonian\n",
    "        estimator (Estimator): Estimator primitive instance\n",
    "\n",
    "    Returns:\n",
    "        float: Energy estimate\n",
    "    \"\"\"\n",
    "    cost = estimator.run(ansatz, hamiltonian, parameter_values=params).result().values[0]\n",
    "    return cost"
   ]
  },
  {
   "cell_type": "code",
   "execution_count": 6,
   "id": "125827cd-ed28-4634-9b57-beb300d84fac",
   "metadata": {},
   "outputs": [
    {
     "ename": "AccountNotFoundError",
     "evalue": "'Unable to find account.'",
     "output_type": "error",
     "traceback": [
      "\u001b[0;31m---------------------------------------------------------------------------\u001b[0m",
      "\u001b[0;31mAccountNotFoundError\u001b[0m                      Traceback (most recent call last)",
      "Cell \u001b[0;32mIn [6], line 4\u001b[0m\n\u001b[1;32m      1\u001b[0m \u001b[38;5;28;01mfrom\u001b[39;00m \u001b[38;5;21;01mqiskit_ibm_runtime\u001b[39;00m \u001b[38;5;28;01mimport\u001b[39;00m QiskitRuntimeService, Estimator, Session\n\u001b[1;32m      3\u001b[0m \u001b[38;5;66;03m# Add your token below\u001b[39;00m\n\u001b[0;32m----> 4\u001b[0m service \u001b[38;5;241m=\u001b[39m \u001b[43mQiskitRuntimeService\u001b[49m\u001b[43m(\u001b[49m\n\u001b[1;32m      5\u001b[0m \u001b[43m    \u001b[49m\u001b[43mchannel\u001b[49m\u001b[38;5;241;43m=\u001b[39;49m\u001b[38;5;124;43m\"\u001b[39;49m\u001b[38;5;124;43mibm_quantum\u001b[39;49m\u001b[38;5;124;43m\"\u001b[39;49m\n\u001b[1;32m      6\u001b[0m \u001b[43m)\u001b[49m\n\u001b[1;32m      8\u001b[0m backend \u001b[38;5;241m=\u001b[39m service\u001b[38;5;241m.\u001b[39mbackend(\u001b[38;5;124m\"\u001b[39m\u001b[38;5;124mibmq_qasm_simulator\u001b[39m\u001b[38;5;124m\"\u001b[39m)\n\u001b[1;32m      9\u001b[0m session \u001b[38;5;241m=\u001b[39m Session(backend\u001b[38;5;241m=\u001b[39mbackend)\n",
      "File \u001b[0;32m~/miniforge3/lib/python3.10/site-packages/qiskit_ibm_runtime/qiskit_runtime_service.py:174\u001b[0m, in \u001b[0;36mQiskitRuntimeService.__init__\u001b[0;34m(self, channel, token, url, filename, name, instance, proxies, verify, channel_strategy)\u001b[0m\n\u001b[1;32m    131\u001b[0m \u001b[38;5;124;03m\"\"\"QiskitRuntimeService constructor\u001b[39;00m\n\u001b[1;32m    132\u001b[0m \n\u001b[1;32m    133\u001b[0m \u001b[38;5;124;03mAn account is selected in the following order:\u001b[39;00m\n\u001b[0;32m   (...)\u001b[0m\n\u001b[1;32m    170\u001b[0m \u001b[38;5;124;03m    IBMInputValueError: If an input is invalid.\u001b[39;00m\n\u001b[1;32m    171\u001b[0m \u001b[38;5;124;03m\"\"\"\u001b[39;00m\n\u001b[1;32m    172\u001b[0m \u001b[38;5;28msuper\u001b[39m()\u001b[38;5;241m.\u001b[39m\u001b[38;5;21m__init__\u001b[39m()\n\u001b[0;32m--> 174\u001b[0m \u001b[38;5;28mself\u001b[39m\u001b[38;5;241m.\u001b[39m_account \u001b[38;5;241m=\u001b[39m \u001b[38;5;28;43mself\u001b[39;49m\u001b[38;5;241;43m.\u001b[39;49m\u001b[43m_discover_account\u001b[49m\u001b[43m(\u001b[49m\n\u001b[1;32m    175\u001b[0m \u001b[43m    \u001b[49m\u001b[43mtoken\u001b[49m\u001b[38;5;241;43m=\u001b[39;49m\u001b[43mtoken\u001b[49m\u001b[43m,\u001b[49m\n\u001b[1;32m    176\u001b[0m \u001b[43m    \u001b[49m\u001b[43murl\u001b[49m\u001b[38;5;241;43m=\u001b[39;49m\u001b[43murl\u001b[49m\u001b[43m,\u001b[49m\n\u001b[1;32m    177\u001b[0m \u001b[43m    \u001b[49m\u001b[43minstance\u001b[49m\u001b[38;5;241;43m=\u001b[39;49m\u001b[43minstance\u001b[49m\u001b[43m,\u001b[49m\n\u001b[1;32m    178\u001b[0m \u001b[43m    \u001b[49m\u001b[43mchannel\u001b[49m\u001b[38;5;241;43m=\u001b[39;49m\u001b[43mchannel\u001b[49m\u001b[43m,\u001b[49m\n\u001b[1;32m    179\u001b[0m \u001b[43m    \u001b[49m\u001b[43mfilename\u001b[49m\u001b[38;5;241;43m=\u001b[39;49m\u001b[43mfilename\u001b[49m\u001b[43m,\u001b[49m\n\u001b[1;32m    180\u001b[0m \u001b[43m    \u001b[49m\u001b[43mname\u001b[49m\u001b[38;5;241;43m=\u001b[39;49m\u001b[43mname\u001b[49m\u001b[43m,\u001b[49m\n\u001b[1;32m    181\u001b[0m \u001b[43m    \u001b[49m\u001b[43mproxies\u001b[49m\u001b[38;5;241;43m=\u001b[39;49m\u001b[43mProxyConfiguration\u001b[49m\u001b[43m(\u001b[49m\u001b[38;5;241;43m*\u001b[39;49m\u001b[38;5;241;43m*\u001b[39;49m\u001b[43mproxies\u001b[49m\u001b[43m)\u001b[49m\u001b[43m \u001b[49m\u001b[38;5;28;43;01mif\u001b[39;49;00m\u001b[43m \u001b[49m\u001b[43mproxies\u001b[49m\u001b[43m \u001b[49m\u001b[38;5;28;43;01melse\u001b[39;49;00m\u001b[43m \u001b[49m\u001b[38;5;28;43;01mNone\u001b[39;49;00m\u001b[43m,\u001b[49m\n\u001b[1;32m    182\u001b[0m \u001b[43m    \u001b[49m\u001b[43mverify\u001b[49m\u001b[38;5;241;43m=\u001b[39;49m\u001b[43mverify\u001b[49m\u001b[43m,\u001b[49m\n\u001b[1;32m    183\u001b[0m \u001b[43m    \u001b[49m\u001b[43mchannel_strategy\u001b[49m\u001b[38;5;241;43m=\u001b[39;49m\u001b[43mchannel_strategy\u001b[49m\u001b[43m,\u001b[49m\n\u001b[1;32m    184\u001b[0m \u001b[43m\u001b[49m\u001b[43m)\u001b[49m\n\u001b[1;32m    186\u001b[0m \u001b[38;5;28mself\u001b[39m\u001b[38;5;241m.\u001b[39m_client_params \u001b[38;5;241m=\u001b[39m ClientParameters(\n\u001b[1;32m    187\u001b[0m     channel\u001b[38;5;241m=\u001b[39m\u001b[38;5;28mself\u001b[39m\u001b[38;5;241m.\u001b[39m_account\u001b[38;5;241m.\u001b[39mchannel,\n\u001b[1;32m    188\u001b[0m     token\u001b[38;5;241m=\u001b[39m\u001b[38;5;28mself\u001b[39m\u001b[38;5;241m.\u001b[39m_account\u001b[38;5;241m.\u001b[39mtoken,\n\u001b[0;32m   (...)\u001b[0m\n\u001b[1;32m    192\u001b[0m     verify\u001b[38;5;241m=\u001b[39m\u001b[38;5;28mself\u001b[39m\u001b[38;5;241m.\u001b[39m_account\u001b[38;5;241m.\u001b[39mverify,\n\u001b[1;32m    193\u001b[0m )\n\u001b[1;32m    195\u001b[0m \u001b[38;5;28mself\u001b[39m\u001b[38;5;241m.\u001b[39m_channel_strategy \u001b[38;5;241m=\u001b[39m channel_strategy \u001b[38;5;129;01mor\u001b[39;00m \u001b[38;5;28mself\u001b[39m\u001b[38;5;241m.\u001b[39m_account\u001b[38;5;241m.\u001b[39mchannel_strategy\n",
      "File \u001b[0;32m~/miniforge3/lib/python3.10/site-packages/qiskit_ibm_runtime/qiskit_runtime_service.py:289\u001b[0m, in \u001b[0;36mQiskitRuntimeService._discover_account\u001b[0;34m(self, token, url, instance, channel, filename, name, proxies, verify, channel_strategy)\u001b[0m\n\u001b[1;32m    287\u001b[0m         \u001b[38;5;28;01mif\u001b[39;00m url:\n\u001b[1;32m    288\u001b[0m             logger\u001b[38;5;241m.\u001b[39mwarning(\u001b[38;5;124m\"\u001b[39m\u001b[38;5;124mLoading default \u001b[39m\u001b[38;5;132;01m%s\u001b[39;00m\u001b[38;5;124m account. Input \u001b[39m\u001b[38;5;124m'\u001b[39m\u001b[38;5;124murl\u001b[39m\u001b[38;5;124m'\u001b[39m\u001b[38;5;124m is ignored.\u001b[39m\u001b[38;5;124m\"\u001b[39m, channel)\n\u001b[0;32m--> 289\u001b[0m         account \u001b[38;5;241m=\u001b[39m \u001b[43mAccountManager\u001b[49m\u001b[38;5;241;43m.\u001b[39;49m\u001b[43mget\u001b[49m\u001b[43m(\u001b[49m\u001b[43mfilename\u001b[49m\u001b[38;5;241;43m=\u001b[39;49m\u001b[43mfilename\u001b[49m\u001b[43m,\u001b[49m\u001b[43m \u001b[49m\u001b[43mname\u001b[49m\u001b[38;5;241;43m=\u001b[39;49m\u001b[43mname\u001b[49m\u001b[43m,\u001b[49m\u001b[43m \u001b[49m\u001b[43mchannel\u001b[49m\u001b[38;5;241;43m=\u001b[39;49m\u001b[43mchannel\u001b[49m\u001b[43m)\u001b[49m\n\u001b[1;32m    290\u001b[0m \u001b[38;5;28;01melif\u001b[39;00m \u001b[38;5;28many\u001b[39m([token, url]):\n\u001b[1;32m    291\u001b[0m     \u001b[38;5;66;03m# Let's not infer based on these attributes as they may change in the future.\u001b[39;00m\n\u001b[1;32m    292\u001b[0m     \u001b[38;5;28;01mraise\u001b[39;00m \u001b[38;5;167;01mValueError\u001b[39;00m(\n\u001b[1;32m    293\u001b[0m         \u001b[38;5;124m\"\u001b[39m\u001b[38;5;124m'\u001b[39m\u001b[38;5;124mchannel\u001b[39m\u001b[38;5;124m'\u001b[39m\u001b[38;5;124m is required if \u001b[39m\u001b[38;5;124m'\u001b[39m\u001b[38;5;124mtoken\u001b[39m\u001b[38;5;124m'\u001b[39m\u001b[38;5;124m, or \u001b[39m\u001b[38;5;124m'\u001b[39m\u001b[38;5;124murl\u001b[39m\u001b[38;5;124m'\u001b[39m\u001b[38;5;124m is specified but \u001b[39m\u001b[38;5;124m'\u001b[39m\u001b[38;5;124mname\u001b[39m\u001b[38;5;124m'\u001b[39m\u001b[38;5;124m is not.\u001b[39m\u001b[38;5;124m\"\u001b[39m\n\u001b[1;32m    294\u001b[0m     )\n",
      "File \u001b[0;32m~/miniforge3/lib/python3.10/site-packages/qiskit_ibm_runtime/accounts/management.py:208\u001b[0m, in \u001b[0;36mAccountManager.get\u001b[0;34m(cls, filename, name, channel)\u001b[0m\n\u001b[1;32m    200\u001b[0m     issue_deprecation_msg(\n\u001b[1;32m    201\u001b[0m         msg\u001b[38;5;241m=\u001b[39m\u001b[38;5;124m\"\u001b[39m\u001b[38;5;124mUse of the ~/.qiskit/qiskitrc.json file is deprecated.\u001b[39m\u001b[38;5;124m\"\u001b[39m,\n\u001b[1;32m    202\u001b[0m         version\u001b[38;5;241m=\u001b[39m\u001b[38;5;124m\"\u001b[39m\u001b[38;5;124m0.15.0\u001b[39m\u001b[38;5;124m\"\u001b[39m,\n\u001b[1;32m    203\u001b[0m         remedy\u001b[38;5;241m=\u001b[39m\u001b[38;5;124m\"\u001b[39m\u001b[38;5;124mPlease use the ~/.qiskit/qiskit-ibm.json file instead.\u001b[39m\u001b[38;5;124m\"\u001b[39m,\n\u001b[1;32m    204\u001b[0m         period\u001b[38;5;241m=\u001b[39m\u001b[38;5;124m\"\u001b[39m\u001b[38;5;124m1 month\u001b[39m\u001b[38;5;124m\"\u001b[39m,\n\u001b[1;32m    205\u001b[0m     )\n\u001b[1;32m    206\u001b[0m     \u001b[38;5;28;01mreturn\u001b[39;00m \u001b[38;5;28mcls\u001b[39m\u001b[38;5;241m.\u001b[39m_from_qiskitrc_file()\n\u001b[0;32m--> 208\u001b[0m \u001b[38;5;28;01mraise\u001b[39;00m AccountNotFoundError(\u001b[38;5;124m\"\u001b[39m\u001b[38;5;124mUnable to find account.\u001b[39m\u001b[38;5;124m\"\u001b[39m)\n",
      "\u001b[0;31mAccountNotFoundError\u001b[0m: 'Unable to find account.'"
     ]
    }
   ],
   "source": [
    "from qiskit_ibm_runtime import QiskitRuntimeService, Estimator, Session\n",
    "\n",
    "# Add your token below\n",
    "service = QiskitRuntimeService(\n",
    "    channel=\"ibm_quantum\"\n",
    ")\n",
    "\n",
    "backend = service.backend(\"ibmq_qasm_simulator\")\n",
    "session = Session(backend=backend)\n",
    "\n",
    "# Use estimator to get the expected values corresponding to each ansatz\n",
    "estimator = Estimator(session=session)"
   ]
  },
  {
   "cell_type": "code",
   "execution_count": null,
   "id": "6d86e306-437f-4c80-8818-41a1b01cbab1",
   "metadata": {},
   "outputs": [],
   "source": []
  },
  {
   "cell_type": "code",
   "execution_count": null,
   "id": "6706ef4f-3c15-4c63-b8d5-b411709c3293",
   "metadata": {},
   "outputs": [],
   "source": []
  }
 ],
 "metadata": {
  "kernelspec": {
   "display_name": "Python 3 (ipykernel)",
   "language": "python",
   "name": "python3"
  },
  "language_info": {
   "codemirror_mode": {
    "name": "ipython",
    "version": 3
   },
   "file_extension": ".py",
   "mimetype": "text/x-python",
   "name": "python",
   "nbconvert_exporter": "python",
   "pygments_lexer": "ipython3",
   "version": "3.10.6"
  }
 },
 "nbformat": 4,
 "nbformat_minor": 5
}
