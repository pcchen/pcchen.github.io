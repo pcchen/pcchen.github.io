{
 "cells": [
  {
   "cell_type": "markdown",
   "id": "90b44338-42db-4eb4-971f-eaaf96283f85",
   "metadata": {},
   "source": [
    "https://github.com/Qiskit/qiskit"
   ]
  },
  {
   "cell_type": "code",
   "execution_count": 17,
   "id": "f613d7cf-fa01-4a6e-bfa1-989b6f137eef",
   "metadata": {},
   "outputs": [],
   "source": [
    "import qiskit\n",
    "import numpy as np\n",
    "from qiskit import QuantumCircuit"
   ]
  },
  {
   "cell_type": "code",
   "execution_count": 18,
   "id": "9c6bd440-2e9f-4173-86d3-142243606c15",
   "metadata": {},
   "outputs": [
    {
     "data": {
      "text/html": [
       "<pre style=\"word-wrap: normal;white-space: pre;background: #fff0;line-height: 1.1;font-family: &quot;Courier New&quot;,Courier,monospace\">     ┌───┐┌────────┐          \n",
       "q_0: ┤ H ├┤ P(π/2) ├──■────■──\n",
       "     └───┘└────────┘┌─┴─┐  │  \n",
       "q_1: ───────────────┤ X ├──┼──\n",
       "                    └───┘┌─┴─┐\n",
       "q_2: ────────────────────┤ X ├\n",
       "                         └───┘</pre>"
      ],
      "text/plain": [
       "     ┌───┐┌────────┐          \n",
       "q_0: ┤ H ├┤ P(π/2) ├──■────■──\n",
       "     └───┘└────────┘┌─┴─┐  │  \n",
       "q_1: ───────────────┤ X ├──┼──\n",
       "                    └───┘┌─┴─┐\n",
       "q_2: ────────────────────┤ X ├\n",
       "                         └───┘"
      ]
     },
     "execution_count": 18,
     "metadata": {},
     "output_type": "execute_result"
    }
   ],
   "source": [
    "# 1. A quantum circuit for preparing the quantum state |000> + i |111>\n",
    "qc_example = QuantumCircuit(3)\n",
    "qc_example.h(0)          # generate superpostion\n",
    "qc_example.p(np.pi/2,0)  # add quantum phase\n",
    "qc_example.cx(0,1)       # 0th-qubit-Controlled-NOT gate on 1st qubit\n",
    "qc_example.cx(0,2)       # 0th-qubit-Controlled-NOT gate on 2nd qubit\n",
    "qc_example.draw()"
   ]
  },
  {
   "cell_type": "code",
   "execution_count": 19,
   "id": "95f6b1a9-5142-4e13-acd8-b1d1c2625b47",
   "metadata": {},
   "outputs": [
    {
     "name": "stdout",
     "output_type": "stream",
     "text": [
      "1  > Expectation values: EstimatorResult(values=array([4.00000001]), metadata=[{'variance': 3.552713678800501e-15, 'shots': 1}])\n",
      "11  > Expectation values: EstimatorResult(values=array([3.99999999]), metadata=[{'variance': 3.552713678800501e-15, 'shots': 11}])\n",
      "21  > Expectation values: EstimatorResult(values=array([4.00000001]), metadata=[{'variance': 3.552713678800501e-15, 'shots': 21}])\n",
      "31  > Expectation values: EstimatorResult(values=array([4.00000002]), metadata=[{'variance': 3.552713678800501e-15, 'shots': 31}])\n",
      "41  > Expectation values: EstimatorResult(values=array([3.99999998]), metadata=[{'variance': 3.552713678800501e-15, 'shots': 41}])\n",
      "51  > Expectation values: EstimatorResult(values=array([3.99999999]), metadata=[{'variance': 3.552713678800501e-15, 'shots': 51}])\n",
      "61  > Expectation values: EstimatorResult(values=array([4.]), metadata=[{'variance': 3.552713678800501e-15, 'shots': 61}])\n",
      "71  > Expectation values: EstimatorResult(values=array([4.]), metadata=[{'variance': 3.552713678800501e-15, 'shots': 71}])\n",
      "81  > Expectation values: EstimatorResult(values=array([4.00000001]), metadata=[{'variance': 3.552713678800501e-15, 'shots': 81}])\n",
      "91  > Expectation values: EstimatorResult(values=array([4.]), metadata=[{'variance': 3.552713678800501e-15, 'shots': 91}])\n"
     ]
    }
   ],
   "source": [
    "# 2. define the observable to be measured \n",
    "from qiskit.quantum_info import SparsePauliOp\n",
    "operator = SparsePauliOp.from_list([(\"XXY\", 1), (\"XYX\", 1), (\"YXX\", 1), (\"YYY\", -1)])\n",
    "\n",
    "# 3. Execute using the Estimator primitive\n",
    "from qiskit.primitives import Estimator\n",
    "estimator = qiskit.primitives.BackendEstimator(FakeManilaV2())\n",
    "estimator = Estimator()\n",
    "\n",
    "for s in range(1,101,10):\n",
    "    job = estimator.run(qc_example, operator, shots=s)\n",
    "    result = job.result()\n",
    "    # print(s, f\" > Expectation values: {result.values}\")\n",
    "    print(s, f\" > Expectation values: {result}\")"
   ]
  },
  {
   "cell_type": "code",
   "execution_count": 20,
   "id": "e5c7c6d2-fc56-4984-b1dc-bb9ab5ebc36d",
   "metadata": {},
   "outputs": [
    {
     "name": "stdout",
     "output_type": "stream",
     "text": [
      " > Quasi probability distribution: [{0: 0.493, 7: 0.507}]\n"
     ]
    }
   ],
   "source": [
    "# 3. Execute using the Sampler primitive\n",
    "from qiskit.primitives.sampler import Sampler\n",
    "\n",
    "# , BackendSampler\n",
    "sampler = Sampler()\n",
    "\n",
    "job = sampler.run(qc_measured, shots=2000)\n",
    "result = job.result()\n",
    "print(f\" > Quasi probability distribution: {result.quasi_dists}\")"
   ]
  },
  {
   "cell_type": "markdown",
   "id": "6b35a736-4fb4-41db-ab58-b6ae7d2134a0",
   "metadata": {},
   "source": [
    "## Sampler"
   ]
  },
  {
   "cell_type": "code",
   "execution_count": 21,
   "id": "7af03324-024e-4198-b99b-275a1430ad94",
   "metadata": {},
   "outputs": [
    {
     "data": {
      "text/html": [
       "<pre style=\"word-wrap: normal;white-space: pre;background: #fff0;line-height: 1.1;font-family: &quot;Courier New&quot;,Courier,monospace\">        ┌───┐┌────────┐           ░ ┌─┐      \n",
       "   q_0: ┤ H ├┤ P(π/2) ├──■────■───░─┤M├──────\n",
       "        └───┘└────────┘┌─┴─┐  │   ░ └╥┘┌─┐   \n",
       "   q_1: ───────────────┤ X ├──┼───░──╫─┤M├───\n",
       "                       └───┘┌─┴─┐ ░  ║ └╥┘┌─┐\n",
       "   q_2: ────────────────────┤ X ├─░──╫──╫─┤M├\n",
       "                            └───┘ ░  ║  ║ └╥┘\n",
       "meas: 3/═════════════════════════════╩══╩══╩═\n",
       "                                     0  1  2 </pre>"
      ],
      "text/plain": [
       "        ┌───┐┌────────┐           ░ ┌─┐      \n",
       "   q_0: ┤ H ├┤ P(π/2) ├──■────■───░─┤M├──────\n",
       "        └───┘└────────┘┌─┴─┐  │   ░ └╥┘┌─┐   \n",
       "   q_1: ───────────────┤ X ├──┼───░──╫─┤M├───\n",
       "                       └───┘┌─┴─┐ ░  ║ └╥┘┌─┐\n",
       "   q_2: ────────────────────┤ X ├─░──╫──╫─┤M├\n",
       "                            └───┘ ░  ║  ║ └╥┘\n",
       "meas: 3/═════════════════════════════╩══╩══╩═\n",
       "                                     0  1  2 "
      ]
     },
     "execution_count": 21,
     "metadata": {},
     "output_type": "execute_result"
    }
   ],
   "source": [
    "# 2. Add the classical output in the form of measurement of all qubits\n",
    "qc_measured = qc_example.measure_all(inplace=False)\n",
    "qc_measured.draw()"
   ]
  },
  {
   "cell_type": "code",
   "execution_count": 22,
   "id": "fe51ac22-3e82-446e-8793-256250c03bb3",
   "metadata": {},
   "outputs": [
    {
     "data": {
      "image/png": "[encoded data removed]",
      "text/plain": [
       "<Figure size 700x500 with 1 Axes>"
      ]
     },
     "metadata": {},
     "output_type": "display_data"
    }
   ],
   "source": [
    "from qiskit.visualization import plot_histogram\n",
    "statistics = result.quasi_dists[0].binary_probabilities()\n",
    "display(plot_histogram(statistics))"
   ]
  },
  {
   "cell_type": "code",
   "execution_count": 23,
   "id": "6f0a82e9-a169-40d9-be80-0028ad54a862",
   "metadata": {},
   "outputs": [
    {
     "name": "stdout",
     "output_type": "stream",
     "text": [
      " > Quasi probability distribution: [{1: 0.003, 4: 0.011, 6: 0.014, 5: 0.022, 2: 0.018, 0: 0.5, 3: 0.017, 7: 0.415}]\n"
     ]
    },
    {
     "data": {
      "image/png": "[encoded data removed]",
      "text/plain": [
       "<Figure size 700x500 with 1 Axes>"
      ]
     },
     "metadata": {},
     "output_type": "display_data"
    }
   ],
   "source": [
    "import qiskit.primitives\n",
    "from qiskit.providers.fake_provider import *\n",
    "sampler = qiskit.primitives.BackendSampler(FakeManilaV2())\n",
    "# sampler = qiskit.primitives.sampler.Sampler()\n",
    "\n",
    "job = sampler.run(qc_measured, shots=1000)\n",
    "result = job.result()\n",
    "print(f\" > Quasi probability distribution: {result.quasi_dists}\")\n",
    "\n",
    "statistics = result.quasi_dists[0].binary_probabilities()\n",
    "display(plot_histogram(statistics))"
   ]
  },
  {
   "cell_type": "markdown",
   "id": "fa4381e4-a29c-4151-9f72-8d9778dce42d",
   "metadata": {},
   "source": [
    "## Estimator"
   ]
  },
  {
   "cell_type": "code",
   "execution_count": 24,
   "id": "c58205a7-0b46-4e11-b998-4c354d83c3f2",
   "metadata": {},
   "outputs": [
    {
     "name": "stdout",
     "output_type": "stream",
     "text": [
      " > Expectation values: [4.00000004]\n",
      " > Expectation values: [4.]\n"
     ]
    },
    {
     "data": {
      "text/plain": [
       "EstimatorResult(values=array([4.]), metadata=[{'variance': 3.552713678800501e-15, 'shots': 1000}])"
      ]
     },
     "execution_count": 24,
     "metadata": {},
     "output_type": "execute_result"
    }
   ],
   "source": [
    "# 2. define the observable to be measured \n",
    "from qiskit.quantum_info import SparsePauliOp\n",
    "operator = SparsePauliOp.from_list([(\"XXY\", 1), (\"XYX\", 1), (\"YXX\", 1), (\"YYY\", -1)])\n",
    "\n",
    "# 3. Execute using the Estimator primitive\n",
    "from qiskit.primitives import Estimator\n",
    "estimator = Estimator()\n",
    "\n",
    "job = estimator.run(qc_example, operator, shots=1)\n",
    "result = job.result()\n",
    "print(f\" > Expectation values: {result.values}\")\n",
    "result\n",
    "\n",
    "job = estimator.run(qc_example, operator, shots=1000)\n",
    "result = job.result()\n",
    "print(f\" > Expectation values: {result.values}\")\n",
    "result"
   ]
  },
  {
   "cell_type": "code",
   "execution_count": 25,
   "id": "1a03440b-776c-47f6-a716-f1d20182c76a",
   "metadata": {},
   "outputs": [
    {
     "data": {
      "text/plain": [
       "EstimatorResult(values=array([4.]), metadata=[{'variance': 3.552713678800501e-15, 'shots': 1000}])"
      ]
     },
     "execution_count": 25,
     "metadata": {},
     "output_type": "execute_result"
    }
   ],
   "source": [
    "result"
   ]
  },
  {
   "cell_type": "code",
   "execution_count": null,
   "id": "256f0d84-d69b-42a3-b0f7-cb6153df31b3",
   "metadata": {},
   "outputs": [],
   "source": []
  },
  {
   "cell_type": "code",
   "execution_count": 26,
   "id": "7bde0647-0308-4bb2-a67d-1e41587a045d",
   "metadata": {},
   "outputs": [],
   "source": [
    "from qiskit.quantum_info import Operator\n"
   ]
  },
  {
   "cell_type": "code",
   "execution_count": 27,
   "id": "ea4dde3f-9462-4477-b24c-fd81d99c3599",
   "metadata": {},
   "outputs": [
    {
     "data": {
      "text/plain": [
       "array([[ 0.70710678+0.j,  0.70710678+0.j,  0.        +0.j,\n",
       "         0.        +0.j,  0.        +0.j,  0.        +0.j,\n",
       "         0.        +0.j,  0.        +0.j],\n",
       "       [ 0.        +0.j,  0.        +0.j,  0.        +0.j,\n",
       "         0.        +0.j,  0.        +0.j,  0.        +0.j,\n",
       "         0.70710678+0.j, -0.70710678+0.j],\n",
       "       [ 0.        +0.j,  0.        +0.j,  0.70710678+0.j,\n",
       "         0.70710678+0.j,  0.        +0.j,  0.        +0.j,\n",
       "         0.        +0.j,  0.        +0.j],\n",
       "       [ 0.        +0.j,  0.        +0.j,  0.        +0.j,\n",
       "         0.        +0.j,  0.70710678+0.j, -0.70710678+0.j,\n",
       "         0.        +0.j,  0.        +0.j],\n",
       "       [ 0.        +0.j,  0.        +0.j,  0.        +0.j,\n",
       "         0.        +0.j,  0.70710678+0.j,  0.70710678+0.j,\n",
       "         0.        +0.j,  0.        +0.j],\n",
       "       [ 0.        +0.j,  0.        +0.j,  0.70710678+0.j,\n",
       "        -0.70710678+0.j,  0.        +0.j,  0.        +0.j,\n",
       "         0.        +0.j,  0.        +0.j],\n",
       "       [ 0.        +0.j,  0.        +0.j,  0.        +0.j,\n",
       "         0.        +0.j,  0.        +0.j,  0.        +0.j,\n",
       "         0.70710678+0.j,  0.70710678+0.j],\n",
       "       [ 0.70710678+0.j, -0.70710678+0.j,  0.        +0.j,\n",
       "         0.        +0.j,  0.        +0.j,  0.        +0.j,\n",
       "         0.        +0.j,  0.        +0.j]])"
      ]
     },
     "execution_count": 27,
     "metadata": {},
     "output_type": "execute_result"
    }
   ],
   "source": [
    "# Create a Quantum Circuit acting on a quantum register of three qubits\n",
    "circ = QuantumCircuit(3)\n",
    "# Add a H gate on qubit 0, putting this qubit in superposition.\n",
    "circ.h(0)\n",
    "# Add a CX (CNOT) gate on control qubit 0 and target qubit 1, putting\n",
    "# the qubits in a Bell state.\n",
    "circ.cx(0, 1)\n",
    "# Add a CX (CNOT) gate on control qubit 0 and target qubit 2, putting\n",
    "# the qubits in a GHZ state.\n",
    "circ.cx(0, 2)\n",
    "circ.draw()\n",
    "\n",
    "U = Operator(circ)\n",
    "# Show the results\n",
    "U.data"
   ]
  },
  {
   "cell_type": "code",
   "execution_count": 28,
   "id": "ed89e832-6201-4229-9791-17f32d4871a6",
   "metadata": {},
   "outputs": [],
   "source": [
    "# Create a Quantum Circuit\n",
    "meas = QuantumCircuit(3, 3)\n",
    "meas.barrier(range(3))\n",
    "# map the quantum measurement to the classical bits\n",
    "meas.measure(range(3), range(3))\n",
    "\n",
    "# The Qiskit circuit object supports composition.\n",
    "# Here the meas has to be first and front=True (putting it before)\n",
    "# as compose must put a smaller circuit into a larger one.\n",
    "qc = meas.compose(circ, range(3), front=True)\n",
    "\n",
    "#drawing the circuit\n",
    "qc.draw()\n",
    "\n",
    "# Adding the transpiler to reduce the circuit to QASM instructions\n",
    "# supported by the backend\n",
    "from qiskit import transpile\n",
    "\n",
    "# Use AerSimulator\n",
    "from qiskit_aer import AerSimulator\n",
    "\n",
    "backend = AerSimulator()\n",
    "\n",
    "# First we have to transpile the quantum circuit\n",
    "# to the low-level QASM instructions used by the\n",
    "# backend\n",
    "qc_compiled = transpile(qc, backend)\n",
    "\n",
    "# Execute the circuit on the qasm simulator.\n",
    "# We've set the number of repeats of the circuit\n",
    "# to be 1024, which is the default.\n",
    "job_sim = backend.run(qc_compiled, shots=1024)\n",
    "\n",
    "# Grab the results from the job.\n",
    "result_sim = job_sim.result()"
   ]
  },
  {
   "cell_type": "code",
   "execution_count": null,
   "id": "9eb17a55-c27b-46e6-b1ed-391b06d5449d",
   "metadata": {},
   "outputs": [],
   "source": []
  },
  {
   "cell_type": "markdown",
   "id": "83b0d75e-6fe8-428a-b4a0-4981b0368c0a",
   "metadata": {
    "tags": []
   },
   "source": []
  },
  {
   "cell_type": "code",
   "execution_count": null,
   "id": "f86f7536-d068-4204-9156-a599fad345f3",
   "metadata": {},
   "outputs": [],
   "source": []
  },
  {
   "cell_type": "code",
   "execution_count": null,
   "id": "9af6373c-a797-483d-866a-8058d115d94e",
   "metadata": {},
   "outputs": [],
   "source": []
  },
  {
   "cell_type": "code",
   "execution_count": null,
   "id": "65376b80-90ac-477d-8cf8-0b7ea5d7ad26",
   "metadata": {},
   "outputs": [],
   "source": []
  },
  {
   "cell_type": "code",
   "execution_count": null,
   "id": "f8bd4847-d021-4194-8ec6-fb070d8e4a40",
   "metadata": {},
   "outputs": [],
   "source": []
  },
  {
   "cell_type": "code",
   "execution_count": null,
   "id": "56ec6f6e-30e9-41d2-863a-dee94bc50445",
   "metadata": {},
   "outputs": [],
   "source": []
  },
  {
   "cell_type": "code",
   "execution_count": 29,
   "id": "b204facd-d4c0-4d85-9e07-9d3af6e9444a",
   "metadata": {},
   "outputs": [
    {
     "data": {
      "image/png": "[encoded data removed]",
      "text/plain": [
       "<Figure size 700x500 with 1 Axes>"
      ]
     },
     "execution_count": 29,
     "metadata": {},
     "output_type": "execute_result"
    }
   ],
   "source": [
    "# from qiskit import BasicAer\n",
    "# backend = BasicAer.get_backend('qasm_simulator')\n",
    "# Get a fake backend from the fake provider\n",
    "backend = FakeManilaV2()\n",
    "# backend= FakeAuckland()\n",
    "# backend = AerSimulator()\n",
    "\n",
    "\n",
    "job = backend.run(circuit)\n",
    "counts = job.result().get_counts()\n",
    "plot_histogram(counts)"
   ]
  },
  {
   "cell_type": "code",
   "execution_count": 30,
   "id": "3792eb94-53b1-47e7-85f7-b528d1f3b7db",
   "metadata": {},
   "outputs": [
    {
     "data": {
      "text/html": [
       "<pre style=\"word-wrap: normal;white-space: pre;background: #fff0;line-height: 1.1;font-family: &quot;Courier New&quot;,Courier,monospace\">global phase: π/4\n",
       "                                                                   »\n",
       "ancilla_0 -> 0 ────────────────────────────────────────────────────»\n",
       "                                                                   »\n",
       "ancilla_1 -> 1 ────────────────────────────────────────────────────»\n",
       "                                           ┌───┐┌─────────────────┐»\n",
       "      q_1 -> 2 ────────────────────────────┤ X ├┤ Delay(4800[dt]) ├»\n",
       "               ┌─────────┐┌────┐┌─────────┐└─┬─┘└─────────────────┘»\n",
       "      q_0 -> 3 ┤ Rz(π/2) ├┤ √X ├┤ Rz(π/2) ├──■───────────■─────────»\n",
       "               └─────────┘└────┘└─────────┘            ┌─┴─┐       »\n",
       "      q_2 -> 4 ────────────────────────────────────────┤ X ├───────»\n",
       "                                                       └───┘       »\n",
       "       meas: 3/════════════════════════════════════════════════════»\n",
       "                                                                   »\n",
       "«                                              \n",
       "«ancilla_0 -> 0 ───────────────────────────────\n",
       "«                                              \n",
       "«ancilla_1 -> 1 ───────────────────────────────\n",
       "«                                   ░    ┌─┐   \n",
       "«      q_1 -> 2 ────────────────────░────┤M├───\n",
       "«               ┌─────────────────┐ ░ ┌─┐└╥┘   \n",
       "«      q_0 -> 3 ┤ Delay(4800[dt]) ├─░─┤M├─╫────\n",
       "«               ├─────────────────┤ ░ └╥┘ ║ ┌─┐\n",
       "«      q_2 -> 4 ┤ Delay(4800[dt]) ├─░──╫──╫─┤M├\n",
       "«               └─────────────────┘ ░  ║  ║ └╥┘\n",
       "«       meas: 3/═══════════════════════╩══╩══╩═\n",
       "«                                      0  1  2 </pre>"
      ],
      "text/plain": [
       "global phase: π/4\n",
       "                                                                   »\n",
       "ancilla_0 -> 0 ────────────────────────────────────────────────────»\n",
       "                                                                   »\n",
       "ancilla_1 -> 1 ────────────────────────────────────────────────────»\n",
       "                                           ┌───┐┌─────────────────┐»\n",
       "      q_1 -> 2 ────────────────────────────┤ X ├┤ Delay(4800[dt]) ├»\n",
       "               ┌─────────┐┌────┐┌─────────┐└─┬─┘└─────────────────┘»\n",
       "      q_0 -> 3 ┤ Rz(π/2) ├┤ √X ├┤ Rz(π/2) ├──■───────────■─────────»\n",
       "               └─────────┘└────┘└─────────┘            ┌─┴─┐       »\n",
       "      q_2 -> 4 ────────────────────────────────────────┤ X ├───────»\n",
       "                                                       └───┘       »\n",
       "       meas: 3/════════════════════════════════════════════════════»\n",
       "                                                                   »\n",
       "«                                              \n",
       "«ancilla_0 -> 0 ───────────────────────────────\n",
       "«                                              \n",
       "«ancilla_1 -> 1 ───────────────────────────────\n",
       "«                                   ░    ┌─┐   \n",
       "«      q_1 -> 2 ────────────────────░────┤M├───\n",
       "«               ┌─────────────────┐ ░ ┌─┐└╥┘   \n",
       "«      q_0 -> 3 ┤ Delay(4800[dt]) ├─░─┤M├─╫────\n",
       "«               ├─────────────────┤ ░ └╥┘ ║ ┌─┐\n",
       "«      q_2 -> 4 ┤ Delay(4800[dt]) ├─░──╫──╫─┤M├\n",
       "«               └─────────────────┘ ░  ║  ║ └╥┘\n",
       "«       meas: 3/═══════════════════════╩══╩══╩═\n",
       "«                                      0  1  2 "
      ]
     },
     "execution_count": 30,
     "metadata": {},
     "output_type": "execute_result"
    }
   ],
   "source": [
    "from qiskit import transpile\n",
    " \n",
    "# Transpile the ideal circuit to a circuit that can be directly executed by the backend\n",
    "transpiled_circuit = transpile(circuit, backend)\n",
    "transpiled_circuit.draw()"
   ]
  },
  {
   "cell_type": "code",
   "execution_count": 16,
   "id": "e6cdd626-8a6f-4fd6-b480-525046e5945b",
   "metadata": {},
   "outputs": [
    {
     "data": {
      "image/png": "[encoded data removed]",
      "text/plain": [
       "<Figure size 700x500 with 1 Axes>"
      ]
     },
     "execution_count": 16,
     "metadata": {},
     "output_type": "execute_result"
    }
   ],
   "source": [
    " \n",
    "# Run the transpiled circuit using the simulated fake backend\n",
    "job = backend.run(transpiled_circuit)\n",
    "counts = job.result().get_counts()\n",
    "plot_histogram(counts)"
   ]
  },
  {
   "cell_type": "code",
   "execution_count": null,
   "id": "44c297c8-a33c-4e24-bb25-05223449efd3",
   "metadata": {},
   "outputs": [],
   "source": []
  },
  {
   "cell_type": "markdown",
   "id": "05333afb-120e-4095-9831-d372caa11061",
   "metadata": {},
   "source": [
    "## AER"
   ]
  },
  {
   "cell_type": "code",
   "execution_count": 54,
   "id": "4e5772bb-e889-4513-9eef-413ad0088131",
   "metadata": {},
   "outputs": [
    {
     "name": "stdout",
     "output_type": "stream",
     "text": [
      "Counts(ideal): {'000': 485, '111': 539}\n",
      "Counts(noise): {'001': 32, '110': 109, '100': 20, '011': 16, '111': 370, '010': 11, '000': 449, '101': 17}\n"
     ]
    }
   ],
   "source": [
    "import qiskit\n",
    "from qiskit_aer import AerSimulator\n",
    "from qiskit.providers.fake_provider import *\n",
    "\n",
    "# Generate 3-qubit GHZ state\n",
    "circ = qiskit.QuantumCircuit(3)\n",
    "circ.h(0)\n",
    "circ.cx(0, 1)\n",
    "circ.cx(1, 2)\n",
    "circ.measure_all()\n",
    "\n",
    "# Construct an ideal simulator\n",
    "aersim = AerSimulator()\n",
    "\n",
    "# Perform an ideal simulation\n",
    "result_ideal = aersim.run(circ).result()\n",
    "counts_ideal = result_ideal.get_counts(0)\n",
    "print('Counts(ideal):', counts_ideal)\n",
    "# Counts(ideal): {'000': 493, '111': 531}\n",
    "\n",
    "# Construct a noisy simulator backend from an IBMQ backend\n",
    "# This simulator backend will be automatically configured\n",
    "# using the device configuration and noise model\n",
    "backend = FakeCairo()\n",
    "# aersim_backend = AerSimulator.from_backend(backend)\n",
    "aersim_backend = FakeManilaV2()\n",
    "\n",
    "# Perform noisy simulation\n",
    "result_noise = aersim_backend.run(circ).result()\n",
    "counts_noise = result_noise.get_counts(0)\n",
    "\n",
    "print('Counts(noise):', counts_noise)\n",
    "# Counts(noise): {'101': 16, '110': 48, '100': 7, '001': 31, '010': 7, '000': 464, '011': 15, '111': 436}"
   ]
  },
  {
   "cell_type": "code",
   "execution_count": null,
   "id": "98a3765e-36e9-49a9-9e3f-4fde0187b3b9",
   "metadata": {},
   "outputs": [],
   "source": []
  }
 ],
 "metadata": {
  "kernelspec": {
   "display_name": "Python 3 (ipykernel)",
   "language": "python",
   "name": "python3"
  },
  "language_info": {
   "codemirror_mode": {
    "name": "ipython",
    "version": 3
   },
   "file_extension": ".py",
   "mimetype": "text/x-python",
   "name": "python",
   "nbconvert_exporter": "python",
   "pygments_lexer": "ipython3",
   "version": "3.10.6"
  }
 },
 "nbformat": 4,
 "nbformat_minor": 5
}
