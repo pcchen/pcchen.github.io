{
 "cells": [
  {
   "cell_type": "markdown",
   "id": "f75e93f1-68e3-4a60-8861-f0a11359fde2",
   "metadata": {},
   "source": [
    "# Experiment"
   ]
  },
  {
   "cell_type": "code",
   "execution_count": 1,
   "id": "112cde8d-bbdf-4008-821f-47736a10892e",
   "metadata": {},
   "outputs": [],
   "source": [
    "from qiskit_experiments.library import T1"
   ]
  },
  {
   "cell_type": "code",
   "execution_count": 2,
   "id": "0111cf20-f38b-4efe-b53c-a75db0abd80f",
   "metadata": {},
   "outputs": [],
   "source": [
    "from qiskit.providers.fake_provider import FakePerth\n",
    "from qiskit_aer import AerSimulator\n",
    "\n",
    "backend = AerSimulator.from_backend(FakePerth())"
   ]
  },
  {
   "cell_type": "code",
   "execution_count": 4,
   "id": "da21d7de-4197-48b6-8f1c-aea79f147cdd",
   "metadata": {},
   "outputs": [],
   "source": [
    "import numpy as np\n",
    "\n",
    "qubit0_t1 = FakePerth().qubit_properties(0).t1\n",
    "delays = np.arange(1e-6, 3 * qubit0_t1, 3e-5)\n",
    "\n",
    "exp = T1(physical_qubits=(0,), delays=delays)"
   ]
  },
  {
   "cell_type": "code",
   "execution_count": 7,
   "id": "06d9a639-1d92-46b3-a140-edb9f2ae1403",
   "metadata": {},
   "outputs": [
    {
     "name": "stdout",
     "output_type": "stream",
     "text": [
      "[1.00e-06 3.10e-05 6.10e-05 9.10e-05 1.21e-04 1.51e-04 1.81e-04 2.11e-04\n",
      " 2.41e-04 2.71e-04 3.01e-04 3.31e-04 3.61e-04 3.91e-04 4.21e-04 4.51e-04\n",
      " 4.81e-04 5.11e-04 5.41e-04 5.71e-04 6.01e-04]\n"
     ]
    },
    {
     "data": {
      "text/html": [
       "<pre style=\"word-wrap: normal;white-space: pre;background: #fff0;line-height: 1.1;font-family: &quot;Courier New&quot;,Courier,monospace\">     ┌───┐ ░ ┌─────────────────┐ ░ ┌─┐\n",
       "  q: ┤ X ├─░─┤ Delay(1e-06[s]) ├─░─┤M├\n",
       "     └───┘ ░ └─────────────────┘ ░ └╥┘\n",
       "c: 1/═══════════════════════════════╩═\n",
       "                                    0 </pre>"
      ],
      "text/plain": [
       "     ┌───┐ ░ ┌─────────────────┐ ░ ┌─┐\n",
       "  q: ┤ X ├─░─┤ Delay(1e-06[s]) ├─░─┤M├\n",
       "     └───┘ ░ └─────────────────┘ ░ └╥┘\n",
       "c: 1/═══════════════════════════════╩═\n",
       "                                    0 "
      ]
     },
     "execution_count": 7,
     "metadata": {},
     "output_type": "execute_result"
    }
   ],
   "source": [
    "print(delays)\n",
    "exp.circuits()[0].draw()"
   ]
  },
  {
   "cell_type": "code",
   "execution_count": null,
   "id": "eb956e19-88bf-4727-ba35-5df4bda17a80",
   "metadata": {},
   "outputs": [],
   "source": []
  }
 ],
 "metadata": {
  "kernelspec": {
   "display_name": "Python 3 (ipykernel)",
   "language": "python",
   "name": "python3"
  },
  "language_info": {
   "codemirror_mode": {
    "name": "ipython",
    "version": 3
   },
   "file_extension": ".py",
   "mimetype": "text/x-python",
   "name": "python",
   "nbconvert_exporter": "python",
   "pygments_lexer": "ipython3",
   "version": "3.10.6"
  }
 },
 "nbformat": 4,
 "nbformat_minor": 5
}
