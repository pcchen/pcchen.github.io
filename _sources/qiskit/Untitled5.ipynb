{
 "cells": [
  {
   "cell_type": "code",
   "execution_count": 1,
   "id": "394559c6-0dbf-4c71-b9a1-1aa8f50365c8",
   "metadata": {},
   "outputs": [],
   "source": [
    "from qiskit import QuantumCircuit, transpile\n",
    "from qiskit_aer import AerSimulator\n",
    "\n",
    "from qiskit_class_converter import ConversionService, ConversionType"
   ]
  },
  {
   "cell_type": "code",
   "execution_count": 2,
   "id": "aeba5e9a-de44-4ef9-81f8-7206582f0241",
   "metadata": {},
   "outputs": [
    {
     "name": "stderr",
     "output_type": "stream",
     "text": [
      "\u001b[32m2023-12-06 23:15:20.970\u001b[0m | \u001b[34m\u001b[1mDEBUG   \u001b[0m | \u001b[36mqiskit_class_converter.converters.matrix_to_quantum_circuit\u001b[0m:\u001b[36mactual_convert_action\u001b[0m:\u001b[36m34\u001b[0m - \u001b[34m\u001b[1mmatrix to quantum circuit\u001b[0m\n"
     ]
    }
   ],
   "source": [
    "input_value = [\n",
    "[1, 0, 0, 0],\n",
    "[0, 0, 0, 1],\n",
    "[0, 0, 1, 0],\n",
    "[0, 1, 0, 0]\n",
    "]\n",
    "\n",
    "sample_converter = ConversionService(conversion_type=\"MATRIX_TO_QC\", option={\"label\": \"CX gate\"})\n",
    "result = sample_converter.convert(input_value=input_value)\n",
    "quantum_circuit = QuantumCircuit(2, 2)\n",
    "quantum_circuit.x(0)\n",
    "quantum_circuit.append(result, [0, 1])\n",
    "quantum_circuit.measure(range(2), range(2))\n",
    "backend = AerSimulator()\n",
    "qc_compiled = transpile(quantum_circuit, backend)\n",
    "counts = backend.run(qc_compiled).result().get_counts()"
   ]
  },
  {
   "cell_type": "code",
   "execution_count": null,
   "id": "41355346-939f-4710-9f23-3a5927c1f0b3",
   "metadata": {},
   "outputs": [],
   "source": []
  }
 ],
 "metadata": {
  "kernelspec": {
   "display_name": "Python 3 (ipykernel)",
   "language": "python",
   "name": "python3"
  },
  "language_info": {
   "codemirror_mode": {
    "name": "ipython",
    "version": 3
   },
   "file_extension": ".py",
   "mimetype": "text/x-python",
   "name": "python",
   "nbconvert_exporter": "python",
   "pygments_lexer": "ipython3",
   "version": "3.10.6"
  }
 },
 "nbformat": 4,
 "nbformat_minor": 5
}
